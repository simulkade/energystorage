{
 "cells": [
  {
   "cell_type": "markdown",
   "metadata": {
    "slideshow": {
     "slide_type": "slide"
    }
   },
   "source": [
    "## Fuel\n",
    "* Fuels come in different forms\n",
    "* Here we refer to solid, liquid, and gaseous hydrocarbons\n",
    "* They serve different purposes\n",
    "    - Electricity production\n",
    "    - Transport\n",
    "    - Production of different chemicals\n",
    "* Fossil fuels are stored solar energy from millions of years ago"
   ]
  },
  {
   "cell_type": "markdown",
   "metadata": {
    "slideshow": {
     "slide_type": "slide"
    }
   },
   "source": [
    "## Fuels\n",
    "- Chemical formula (simplification)\n",
    "  * Natural gas: CH$_4$\n",
    "  * Oil: CH$_2$\n",
    "  * Coal: CH\n",
    "\n",
    "- Combustion reaction:\n",
    "  * CH2 + 2 O2 = CO2 + H2O\n",
    "\n",
    "- Combustion energy [link](https://en.wikipedia.org/wiki/Heat_of_combustion):  \n",
    "  * 400 kJ/mol for each carbon atom\n",
    "  * 100 kJ/mol for each hydrogen atom"
   ]
  },
  {
   "cell_type": "markdown",
   "metadata": {
    "hide_input": true,
    "slideshow": {
     "slide_type": "slide"
    }
   },
   "source": [
    "## Exercise\n",
    "Calculate the CO2 emission per unit energy of methane, oil, and coal combustion. Required information include:\n",
    "* Molar mass of CO2: 44 g/mol\n",
    "* Molar mass of C: 12 g/mol\n",
    "* Molar mass of H: 1 g/mol"
   ]
  },
  {
   "cell_type": "code",
   "execution_count": 4,
   "metadata": {
    "hide_input": false,
    "slideshow": {
     "slide_type": "fragment"
    }
   },
   "outputs": [],
   "source": [
    "# Solution\n",
    "C = 400. # kJ/mol\n",
    "H = 100. # kJ/mol\n",
    "M_C = 12. # g/mol\n",
    "M_H = 1.  # g/mol\n",
    "M_CO2 = 44. # g/mol\n",
    "\n",
    "Heat_comb_CH4 = C+4*H # kJ/mol\n",
    "Heat_comb_oil = C+2*H # kJ/mol\n",
    "Heat_comb_coal = C+H  # kJ/mol\n",
    "\n",
    "CO2_per_heat_CH4 = M_CO2/Heat_comb_CH4 # g/kJ\n",
    "CO2_per_heat_oil = M_CO2/Heat_comb_oil # g/kJ\n",
    "CO2_per_heat_coal = M_CO2/Heat_comb_coal # g/kJ"
   ]
  },
  {
   "cell_type": "markdown",
   "metadata": {
    "slideshow": {
     "slide_type": "slide"
    }
   },
   "source": [
    "## Fuels\n",
    "Energy density and CO2 emission of coal, oil, and methane:"
   ]
  },
  {
   "cell_type": "code",
   "execution_count": 3,
   "metadata": {
    "hide_input": true,
    "scrolled": false,
    "slideshow": {
     "slide_type": "fragment"
    }
   },
   "outputs": [
    {
     "data": {
      "image/png": "[encoded data removed]",
      "text/plain": [
       "<Figure size 864x288 with 2 Axes>"
      ]
     },
     "metadata": {
      "needs_background": "light"
     },
     "output_type": "display_data"
    }
   ],
   "source": [
    "import matplotlib.pyplot as plt\n",
    "fuels = ('Gas', 'oil', 'coal')\n",
    "plt.figure(figsize=(12,4))\n",
    "plt.subplot(1,2,1)\n",
    "plt.bar(fuels,[Heat_comb_CH4, Heat_comb_oil, Heat_comb_coal])\n",
    "plt.ylabel('kJ/mol')\n",
    "plt.subplot(1,2,2)\n",
    "plt.bar(fuels, [CO2_per_heat_CH4, CO2_per_heat_oil, CO2_per_heat_coal])\n",
    "plt.ylabel('g/kJ');\n",
    "plt.tight_layout()"
   ]
  },
  {
   "cell_type": "markdown",
   "metadata": {
    "slideshow": {
     "slide_type": "slide"
    }
   },
   "source": [
    "## Fuels\n",
    "Assumption: \n",
    "* driving from houses to the agricultural lands 15 km/day\n",
    "* Shipping\n",
    "  -The closest large country is 500 km away\n",
    "  - import/export of stuff in large containers\n",
    "* Flights\n",
    "  - two flights per day to nearby islands/lands (300 km)\n",
    "  - one flight per day to/from the closest large country"
   ]
  },
  {
   "cell_type": "markdown",
   "metadata": {
    "slideshow": {
     "slide_type": "slide"
    }
   },
   "source": [
    "## Fuel consumption\n",
    "Automobiles\n",
    "* Trucks: 12 L/(100 km)\n",
    "* Cars: 8 L/(100 km)\n",
    "* Average: 10 L/(100 km)\n",
    "* [MacKay](http://www.withouthotair.com/c3/page_29.shtml) 12 km/L\n",
    "\n",
    "[Ships](https://withouthotair.com/c15/page_91.shtml) \n",
    "* 0.015 kWh/(tonne.km)"
   ]
  },
  {
   "cell_type": "markdown",
   "metadata": {
    "slideshow": {
     "slide_type": "subslide"
    }
   },
   "source": [
    "[Trucks](https://withouthotair.com/c15/page_91.shtml)\n",
    "* 1 kWh/(tonne.km)\n",
    "\n",
    "[Airplanes]()\n",
    "* 37-42 kWh/(100 p.km)"
   ]
  },
  {
   "cell_type": "markdown",
   "metadata": {
    "slideshow": {
     "slide_type": "slide"
    }
   },
   "source": [
    "## Fuel consumption for electricity\n",
    "Power plants (with the possibility of being replaced by renewable electricity)\n",
    "\n",
    "| Power plant | Natural gas combined cycle | Pulverized coal | IGCC |\n",
    "| --- | --- | --- | --- |\n",
    "| Efficiency (%) | 55-63 | 25-30 | 35-45 |  \n",
    "\n",
    "<img src=\"./figs/electricity_consumption.svg\">"
   ]
  }
 ],
 "metadata": {
  "celltoolbar": "Slideshow",
  "kernelspec": {
   "display_name": "Python 3",
   "language": "python",
   "name": "python3"
  },
  "language_info": {
   "codemirror_mode": {
    "name": "ipython",
    "version": 3
   },
   "file_extension": ".py",
   "mimetype": "text/x-python",
   "name": "python",
   "nbconvert_exporter": "python",
   "pygments_lexer": "ipython3",
   "version": "3.7.3"
  },
  "toc": {
   "base_numbering": 1,
   "nav_menu": {},
   "number_sections": false,
   "sideBar": true,
   "skip_h1_title": false,
   "title_cell": "Table of Contents",
   "title_sidebar": "Contents",
   "toc_cell": false,
   "toc_position": {},
   "toc_section_display": true,
   "toc_window_display": false
  }
 },
 "nbformat": 4,
 "nbformat_minor": 2
}
