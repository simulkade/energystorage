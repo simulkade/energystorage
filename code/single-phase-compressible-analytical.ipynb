{
 "metadata": {
  "language_info": {
   "codemirror_mode": {
    "name": "ipython",
    "version": 3
   },
   "file_extension": ".py",
   "mimetype": "text/x-python",
   "name": "python",
   "nbconvert_exporter": "python",
   "pygments_lexer": "ipython3",
   "version": 3
  },
  "orig_nbformat": 2
 },
 "nbformat": 4,
 "nbformat_minor": 2,
 "cells": [
  {
   "cell_type": "code",
   "execution_count": null,
   "metadata": {},
   "outputs": [],
   "source": [
    "from CoolProp.CoolProp import PropsSI\n",
    "import numpy as np\n",
    "from scipy.special import expi, exp1"
   ]
  },
  {
   "source": [
    "# Single-phase compressible flow\n",
    "The single-phase compressible flow in porous media can be solved analytically using the transformation suggested by Al-huseyni in his classic paper. The transformation reads:\n",
    "$$ m\\left(p\\right)=\\frac{1}{\\left(\\rho/\\mu\\right)_{r}}\\int_{p_{r}}^{p}\\frac{\\rho}{\\mu}\\mathrm{d}p$$\n",
    "This is shown in the following figure."
   ],
   "cell_type": "markdown",
   "metadata": {}
  },
  {
   "cell_type": "code",
   "execution_count": null,
   "metadata": {},
   "outputs": [],
   "source": [
    "p_r = 1e5 # Pa reference pressure\n",
    "p_res = 200e5 # Pa reservoir pressure\n",
    "T_res = 70+273.15 # K\n",
    "p_max = 5*p_res # Pa maximum pressure\n",
    "p_range = np.linspace(p_r, p_max, 50)\n",
    "rho = PropsSI('DMASS', 'T', T_res, 'P', p_range, 'CO2')\n",
    "mu = PropsSI('V', 'T', T_res, 'P', p_range, 'CO2')\n",
    "rho_mu = np.cumsum(rho/mu)\n",
    "m = np.zeros(mu.size)\n",
    "for i in range(mu.size):\n",
    "    m[i] = np.trapz(p_range[0:i], rho_mu[0:i])/(rho_mu[0])"
   ]
  },
  {
   "cell_type": "code",
   "execution_count": null,
   "metadata": {},
   "outputs": [],
   "source": [
    "plt.plot(p_range, m)\n",
    "plt.xlabel('Pressure [Pa]')\n",
    "plt.ylabel('Pseudo pressure [Pa]')"
   ]
  },
  {
   "source": [
    "The above transformation changes the single-phase compressible flow equation that has the form\n",
    "$$\\frac{\\partial\\left(\\rho\\varphi\\right)}{\\partial t}+\\nabla.\\left(\\rho\\mathbf{u}\\right)=0$$\n",
    "with Darcy velocity in the absence of gravity is defined by\n",
    "$$\\mathbf{u}=-\\frac{k}{\\mu}\\left(\\nabla p\\right)$$\n",
    "to \n",
    "$$\\frac{\\partial m}{\\partial t}-D_{h}\\nabla.\\left(\\nabla m\\right)=0$$\n",
    "in which $D_h$ is defined as \n",
    "$$D_{h}=\\frac{k}{\\varphi\\mu c}$$\n",
    "The parameter $c$ is called the fluid compressibility and is defined by\n",
    "$$c=\\frac{1}{\\rho}\\frac{\\partial\\rho}{\\partial p}$$\n",
    "For carbon dioxide, the plot of density versus presure is shown in the following figure:"
   ],
   "cell_type": "markdown",
   "metadata": {}
  },
  {
   "cell_type": "code",
   "execution_count": null,
   "metadata": {},
   "outputs": [],
   "source": [
    "plt.plot(p_range/1e5, rho)\n",
    "plt.xlabel('p [bar]')\n",
    "plt.ylabel('Density [kg/m$^3$]')\n",
    "# Density at reservoir temperature of T_res"
   ]
  },
  {
   "source": [
    "The solution for a raial field with one injector/producer reads\n",
    "$$m_{i}-m\\left(r,t\\right)=-\\frac{q_{sc}\\left(\\mu B\\right)_{r}}{4\\pi kh}\\textrm{Ei}\\left(-\\frac{r^{2}}{4D_{h}t}\\right)$$\n",
    "where the integral term is defined by\n",
    "$$\\textrm{Ei}\\left(-x\\right)=-\\int_{x}^{\\infty}\\frac{e^{-u}}{u}\\textrm{d}u$$"
   ],
   "cell_type": "markdown",
   "metadata": {}
  },
  {
   "source": [
    "Note\n",
    "$$\\textrm{Ei}\\left(x\\right)=\\int_{x}^{\\infty}\\frac{e^{-u}}{u}\\textrm{d}u$$\n",
    "and\n",
    "$$E_1(x)=-Ei(-x)$$"
   ],
   "cell_type": "markdown",
   "metadata": {}
  }
 ]
}