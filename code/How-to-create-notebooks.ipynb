{
 "cells": [
  {
   "cell_type": "markdown",
   "metadata": {},
   "source": [
    "## Embedding variables in Markdown cells\n",
    "This is done by installing the [Jupyter notebook extensions](https://github.com/ipython-contrib/jupyter_contrib_nbextensions) and activating the [Python Markdown](https://jupyter-contrib-nbextensions.readthedocs.io/en/stable/nbextensions/python-markdown/readme.html) extension. It is then easy to include variables in the Markdown cells by including them between two curly brackets."
   ]
  },
  {
   "cell_type": "code",
   "execution_count": 31,
   "metadata": {},
   "outputs": [
    {
     "data": {
      "text/latex": [
       "$\\displaystyle \\mu$"
      ],
      "text/plain": [
       "\\mu"
      ]
     },
     "execution_count": 31,
     "metadata": {},
     "output_type": "execute_result"
    }
   ],
   "source": [
    "# Example\n",
    "import sympy\n",
    "q, r, p, k, mu, h, u = sympy.symbols('q r p k \\mu h u')\n",
    "mu"
   ]
  },
  {
   "cell_type": "code",
   "execution_count": 32,
   "metadata": {},
   "outputs": [],
   "source": [
    "P = sympy.Function(\"P\")\n",
    "dpdr = sympy.Derivative(P(r), r)\n",
    "u = -k/mu*dpdr"
   ]
  },
  {
   "cell_type": "code",
   "execution_count": 33,
   "metadata": {},
   "outputs": [
    {
     "data": {
      "text/latex": [
       "$\\displaystyle - \\frac{k \\frac{d}{d r} P{\\left(r \\right)}}{\\mu}$"
      ],
      "text/plain": [
       "-k*Derivative(P(r), r)/\\mu"
      ]
     },
     "execution_count": 33,
     "metadata": {},
     "output_type": "execute_result"
    }
   ],
   "source": [
    "u"
   ]
  },
  {
   "cell_type": "code",
   "execution_count": 34,
   "metadata": {},
   "outputs": [],
   "source": [
    "sol1 = sympy.dsolve(u-q/(2*sympy.pi*r*h), P(r))"
   ]
  },
  {
   "cell_type": "markdown",
   "metadata": {
    "variables": {
     "sol1": "$\\displaystyle P{\\left(r \\right)} = C_{1} - \\frac{\\mu q \\log{\\left(r \\right)}}{2 \\pi h k}$"
    }
   },
   "source": [
    "## A markdown cell\n",
    "The solution to the above differential equation for radial flow is {{sol1}}"
   ]
  }
 ],
 "metadata": {
  "kernelspec": {
   "display_name": "Python 3",
   "language": "python",
   "name": "python3"
  },
  "language_info": {
   "codemirror_mode": {
    "name": "ipython",
    "version": 3
   },
   "file_extension": ".py",
   "mimetype": "text/x-python",
   "name": "python",
   "nbconvert_exporter": "python",
   "pygments_lexer": "ipython3",
   "version": "3.7.3"
  },
  "toc": {
   "base_numbering": 1,
   "nav_menu": {},
   "number_sections": true,
   "sideBar": true,
   "skip_h1_title": false,
   "title_cell": "Table of Contents",
   "title_sidebar": "Contents",
   "toc_cell": false,
   "toc_position": {},
   "toc_section_display": true,
   "toc_window_display": false
  }
 },
 "nbformat": 4,
 "nbformat_minor": 4
}
