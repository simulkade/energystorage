{
 "cells": [
  {
   "cell_type": "markdown",
   "metadata": {
    "slideshow": {
     "slide_type": "slide"
    }
   },
   "source": [
    "## Heating with electricity\n",
    "Question for motivation\n",
    "* In an ideal world, what is the best way of warming a room with 1 kg of coal?  \n",
    "* Hint 1: think about Carnot engine.\n",
    "* Hint 2: Assume that coal burns at 1200$^o$C"
   ]
  },
  {
   "cell_type": "code",
   "execution_count": 1,
   "metadata": {
    "slideshow": {
     "slide_type": "slide"
    }
   },
   "outputs": [
    {
     "name": "stdout",
     "output_type": "stream",
     "text": [
      "direct heating provides 38461.53846153846 kJ\n",
      "heat pump and Carnot engine provides 427890.00023497525 kJ\n"
     ]
    }
   ],
   "source": [
    "# Solution:\n",
    "T_house = 20 + 273.15\n",
    "T_outside = 0.0 + 273.15\n",
    "T_coal = 1200 + 273.15\n",
    "M_coal = 0.013 # [kg/mol]\n",
    "m_coal = 1     # [kg]\n",
    "hv_coal = 500. # [kJ/mol]\n",
    "\n",
    "n_coal = m_coal/M_coal # [mol]\n",
    "\n",
    "# direct heating:\n",
    "heat_direct = n_coal*hv_coal # [kJ]\n",
    "print('direct heating provides', heat_direct, 'kJ')\n",
    "\n",
    "# heat pump\n",
    "heat_pump = n_coal*hv_coal*((T_coal-T_outside)/T_coal)*(T_outside/(T_house-T_outside))\n",
    "print('heat pump and Carnot engine provides', heat_pump, 'kJ')"
   ]
  },
  {
   "cell_type": "markdown",
   "metadata": {
    "slideshow": {
     "slide_type": "slide"
    }
   },
   "source": [
    "## Heat pumps\n",
    "* Real coefficient of performance: 2 to 4\n",
    "  - Also highly depends on the outside temperature\n",
    "* Consumes electricity\n",
    "* With renewable electricity, provides a clean warming solution \n",
    "* With a fossil fuel electricity source, the efficiency of the power plant must be included.\n",
    "* Theoretically,  \n",
    "$$Q = HV \\times \\frac{T_{combustion}-T_{outside}}{T_{combustion}} \\times \\frac{T_{house}}{T_{house}-T_{outside}}$$"
   ]
  },
  {
   "cell_type": "markdown",
   "metadata": {
    "slideshow": {
     "slide_type": "slide"
    }
   },
   "source": [
    "## Exercise\n",
    "So far, you have considered solar, fossil fuel, and electrical heaters for the island. Replace your warming systems with heat pumps with a COP of 4.0, and assume that 40% of electricity comes from the windmills and 60% from the coal power plant. Calculate the CO2 emission of the warming systems of the island."
   ]
  },
  {
   "cell_type": "markdown",
   "metadata": {
    "slideshow": {
     "slide_type": "slide"
    }
   },
   "source": [
    "## CO2 capture and storage\n",
    "* CO2 needs to be separated from the flue gas (CO2 + H2O + N2)\n",
    "* Capture is usually done by binding CO2 on a chemical (Chemisorption)\n",
    "* The state of the art commercial solvent is the amine components\n",
    "* The capture energy is between 2500 to 4000 kJ/kg CO2\n",
    "* The product of a capture unit needs to be dehydrated (another 1000 kJ/kg CO2)\n",
    "* The separated CO2 is transported via a pipeline"
   ]
  },
  {
   "cell_type": "markdown",
   "metadata": {
    "slideshow": {
     "slide_type": "slide"
    }
   },
   "source": [
    "## Compression\n",
    "* Compression of CO2 is done in a compressor unit\n",
    "* The compression process is very energy-intensive\n",
    "* Compression work can be calculated by:\n",
    "    - Calculate the compression work for an isentropic process\n",
    "    - Divide it by the compressor efficiency"
   ]
  },
  {
   "cell_type": "markdown",
   "metadata": {
    "slideshow": {
     "slide_type": "slide"
    }
   },
   "source": [
    "## Pumps\n",
    "$$W = \\frac{Q \\Delta P}{\\eta_{pump}\\eta_{driver}\\eta_{power-plant}} $$\n",
    "* $Q$: volumetric flow rate m$^3$/s\n",
    "* $\\Delta p$: pressure change [Pa]\n",
    "* $\\eta$: efficiency"
   ]
  },
  {
   "cell_type": "markdown",
   "metadata": {
    "slideshow": {
     "slide_type": "slide"
    }
   },
   "source": [
    "## Pipeline\n",
    "See the notes"
   ]
  },
  {
   "cell_type": "code",
   "execution_count": 17,
   "metadata": {
    "slideshow": {
     "slide_type": "slide"
    }
   },
   "outputs": [
    {
     "name": "stdout",
     "output_type": "stream",
     "text": [
      "2739.3246340619626 2738.1398869294576\n",
      "128643.4383525109 J/kg\n"
     ]
    }
   ],
   "source": [
    "## Using CoolProp to calculate the compression work\n",
    "# work together for the calculation of physical properties\n",
    "from CoolProp.CoolProp import PropsSI\n",
    "P1 = 1e5 # Pa\n",
    "T1 = 25+273.15 # K\n",
    "comp_ratio = 4.\n",
    "P2 = comp_ratio*P1\n",
    "S1 = PropsSI('Smass', 'P', P1, 'T', T1, 'CO2') # J/(kg.K)\n",
    "T2 = 127. + 273.15 # K guess\n",
    "S2 = PropsSI('Smass', 'P', P2, 'T', T2, 'CO2') # J/(kg.K)\n",
    "print(S1, S2)\n",
    "H1 = PropsSI('Hmass', 'P', P1, 'T', T1, 'CO2') # J/(kg)\n",
    "H2 = PropsSI('Hmass', 'P', P2, 'T', T2, 'CO2') # J/(kg)\n",
    "w_min = H2-H1\n",
    "eta_comp = 0.70\n",
    "w = w_min/eta_comp\n",
    "print(w, 'J/kg')"
   ]
  },
  {
   "cell_type": "markdown",
   "metadata": {
    "slideshow": {
     "slide_type": "slide"
    }
   },
   "source": [
    "## Exercise 2\n",
    "Design a compressor station and a pipeline that transports the captured CO2 from the refinery and the power plant of the island and transports them to an abandoned offshore field for injection. Calculate the power requirement of the compressors and the energy and CO2 emission penalties (i.e., the CO2 that is emitted due to the energy consumption of the CCS process)."
   ]
  },
  {
   "cell_type": "code",
   "execution_count": 21,
   "metadata": {
    "slideshow": {
     "slide_type": "slide"
    }
   },
   "outputs": [
    {
     "name": "stdout",
     "output_type": "stream",
     "text": [
      "0.02466627744230053 m3/mol\n"
     ]
    }
   ],
   "source": [
    "# CO2 molar volume:\n",
    "rho_CO2 = PropsSI('Dmolar', 'P', 1e5, 'T', 25+273.15, 'CO2')\n",
    "v_CO2 = 1/rho_CO2\n",
    "print(v_CO2, 'm3/mol')"
   ]
  },
  {
   "cell_type": "code",
   "execution_count": 50,
   "metadata": {},
   "outputs": [
    {
     "name": "stdout",
     "output_type": "stream",
     "text": [
      "420354.2865844743 ft3/day\n"
     ]
    }
   ],
   "source": [
    "rho = PropsSI('D', 'P', 1e5, 'T', 25+273.15, 'CO2') # kg/m3\n",
    "print(25000/rho*30, 'ft3/day')"
   ]
  }
 ],
 "metadata": {
  "celltoolbar": "Slideshow",
  "kernelspec": {
   "display_name": "Python 3",
   "language": "python",
   "name": "python3"
  },
  "language_info": {
   "codemirror_mode": {
    "name": "ipython",
    "version": 3
   },
   "file_extension": ".py",
   "mimetype": "text/x-python",
   "name": "python",
   "nbconvert_exporter": "python",
   "pygments_lexer": "ipython3",
   "version": "3.7.3"
  },
  "toc": {
   "base_numbering": 1,
   "nav_menu": {},
   "number_sections": false,
   "sideBar": true,
   "skip_h1_title": false,
   "title_cell": "Table of Contents",
   "title_sidebar": "Contents",
   "toc_cell": false,
   "toc_position": {},
   "toc_section_display": true,
   "toc_window_display": false
  }
 },
 "nbformat": 4,
 "nbformat_minor": 2
}
