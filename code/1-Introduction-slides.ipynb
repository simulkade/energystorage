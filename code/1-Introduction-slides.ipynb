{
 "cells": [
  {
   "cell_type": "markdown",
   "metadata": {
    "slideshow": {
     "slide_type": "slide"
    }
   },
   "source": [
    "# Estimating the energy requirement of a city's population\n",
    "Ali A. Eftekhari\n",
    "Researcher  \n",
    "Danish Hydrocarbon Research and Technology Centre (DHRTC)  \n",
    "Technical University of Denmark  \n",
    "January 2020"
   ]
  },
  {
   "cell_type": "markdown",
   "metadata": {
    "slideshow": {
     "slide_type": "slide"
    }
   },
   "source": [
    "## Goal\n",
    "* Estimating type and magnitude of energy requirement\n",
    "  - per person per day\n",
    "  - for different life styles, e.g., European\n",
    "  - with a clear amendable procedure\n",
    "  - by following MacKay with some modifications (https://withouthotair.com)"
   ]
  },
  {
   "cell_type": "markdown",
   "metadata": {
    "slideshow": {
     "slide_type": "slide"
    }
   },
   "source": [
    "## Types of energy consumption\n",
    "  * Heating\n",
    "  * Cooling\n",
    "  * Travel (short and long distances)\n",
    "  * Food\n",
    "  * Other household electricity\n",
    "  * Other services\n",
    "  * Stuff"
   ]
  },
  {
   "cell_type": "markdown",
   "metadata": {
    "slideshow": {
     "slide_type": "slide"
    }
   },
   "source": [
    "## Heating\n",
    "* A house loses heat to the cold surrounding\n",
    "* The heat loss must be balanced by a heat source\n",
    "  - Burning a fuel, solar heating, geothermal, heat pump, etc.\n",
    "* Heat loss is proportional to the temperature difference between the house and the surrounding\n",
    "\n",
    "<img src=\"./figs/home-158089.svg\" width=\"400\">\n",
    "\n"
   ]
  },
  {
   "cell_type": "markdown",
   "metadata": {
    "slideshow": {
     "slide_type": "slide"
    }
   },
   "source": [
    "## Heat loss from a building\n",
    "* $T_\\inf$: ambient temperature [K]\n",
    "* $T_h$: temperature of the house [K]\n",
    "* $U$: heat transfer coefficient [J/(m$^2$.K.s)]\n",
    "* $A$: heat transfer area, i.e., surface area of the house [m$^2$]\n",
    "* $Q_{loss}$: heat loss from the building per unit time [J/s]\n",
    "### $$Q_{loss} = U A \\left(T_h - T_\\inf \\right)$$"
   ]
  },
  {
   "cell_type": "markdown",
   "metadata": {
    "slideshow": {
     "slide_type": "slide"
    }
   },
   "source": [
    "## Heat loss: example\n",
    "* A 90 m$^2$ house, built on a square piece of land\n",
    "* A Danish winter\n",
    "* Heat transfer coefficient: see [its wikipedia page](https://en.wikipedia.org/wiki/Heat_transfer_coefficient)\n",
    "* Overal heat transfer coefficient: 0.2 to 2.0 J/(m$^2$.K.s) for walls and windows.\n",
    "  - See, e.g., [this](http://article.sapub.org/10.5923.j.arch.20120204.03.html)"
   ]
  },
  {
   "cell_type": "code",
   "execution_count": 9,
   "metadata": {
    "slideshow": {
     "slide_type": "fragment"
    }
   },
   "outputs": [
    {
     "name": "stdout",
     "output_type": "stream",
     "text": [
      "Heat loss from the house is 5940.0 W\n"
     ]
    }
   ],
   "source": [
    "# Calculations:\n",
    "import math\n",
    "T_inf = 0.0 + 273.15   # [K]\n",
    "T_h   = 22.0 + 273.15  # [K]\n",
    "U     = 0.5            # W/(m^2.K)\n",
    "L     = math.sqrt(90.0)     # [m] length of the house\n",
    "A     = 6*L**2         # m^2 heat transfer area\n",
    "Q_loss = U*A*(T_h-T_inf)\n",
    "print('Heat loss from the house is', Q_loss, 'W')"
   ]
  },
  {
   "cell_type": "markdown",
   "metadata": {
    "slideshow": {
     "slide_type": "slide"
    }
   },
   "source": [
    "## Power and energy\n",
    "* Power is defined as the flow of energy\n",
    "* Unit for power is energy per time, e.g., J/s = Watt\n",
    "* Unit of energy is J\n",
    "* 1 J and 1 W are small values\n",
    "* The most common commercial units for power and energy are kW and kWh respectively.\n",
    "* 1 kWh is the consumed energy in one hour from a power source of 1 kW.\n",
    "### $$ \\textrm{kWh} = 3600 \\textrm{ kJ}$$"
   ]
  },
  {
   "cell_type": "markdown",
   "metadata": {
    "slideshow": {
     "slide_type": "slide"
    }
   },
   "source": [
    "## Heat loss: continue\n",
    "* It's hard to have a feeling of the unit Watt [J/s]\n",
    "* 100 Watt is the power consumption of an old incandescent light bulb\n",
    "<img src=\"./figs/light-311119.svg\" width=\"100\">"
   ]
  },
  {
   "cell_type": "code",
   "execution_count": 10,
   "metadata": {
    "slideshow": {
     "slide_type": "fragment"
    }
   },
   "outputs": [
    {
     "name": "stdout",
     "output_type": "stream",
     "text": [
      "Heat loss can be compensated by turning 59.4 old light bulbs on\n"
     ]
    }
   ],
   "source": [
    "print('Heat loss can be compensated by turning', Q_loss/100, 'old light bulbs on')"
   ]
  },
  {
   "cell_type": "markdown",
   "metadata": {
    "slideshow": {
     "slide_type": "slide"
    }
   },
   "source": [
    "## Energy and power units of choice\n",
    "* In this course, we work with \n",
    "  - kWh/day for power\n",
    "  - kWh for energy\n",
    "* We always normalize the numbers _per person_"
   ]
  },
  {
   "cell_type": "markdown",
   "metadata": {
    "slideshow": {
     "slide_type": "fragment"
    }
   },
   "source": [
    "## Important unit conversions\n",
    "$$ 1 \\textrm{ kWh/day} = 1 \\textrm{ kWh/day} \\div 24 \\frac{h}{day} = 0.04167 \\textrm{ kW}$$\n",
    "\n",
    "$$ 1 \\textrm{ kWh} = 3600 \\textrm{ kJ} = 3,600,000 \\textrm{ J}$$"
   ]
  },
  {
   "cell_type": "markdown",
   "metadata": {
    "slideshow": {
     "slide_type": "slide"
    }
   },
   "source": [
    "## Hot water\n",
    "* Specific heat capacity: required amount of energy to increase the temperature of one unit mass of a fluid [J/(kg.K]\n",
    "  - for water, $c_p$ = 4200 J/(kg.K)\n",
    "To warm 30 liters of water from 10$^o C$ to 50$^o C$ for a shower: \n",
    "$$Q_{shower} = V_{water} \\rho_{water} c_p \\left(T_{hot} - T_{cold} \\right)$$\n",
    "* $\\rho_{water}$: water density [kg/m$^3$]\n",
    "* $V_{water}$: volume of water required for a shower [m$^3$]"
   ]
  },
  {
   "cell_type": "markdown",
   "metadata": {
    "slideshow": {
     "slide_type": "slide"
    }
   },
   "source": [
    "## Hot water: example\n",
    "* Calculate the amount of energy for\n",
    "  - taking a shower\n",
    "  - making coffee and tea for a day"
   ]
  },
  {
   "cell_type": "code",
   "execution_count": 5,
   "metadata": {
    "slideshow": {
     "slide_type": "fragment"
    }
   },
   "outputs": [
    {
     "name": "stdout",
     "output_type": "stream",
     "text": [
      "Shower energy requirement is 1.4 kWh\n",
      "Coffee energy requirement is 0.21 kWh\n"
     ]
    }
   ],
   "source": [
    "cp       = 4200.    # [J/kg/K]\n",
    "V_shower = 30.0     # [Lit]\n",
    "V_coffee = 2.0      # [lit]\n",
    "T_shower = 50. + 273.15 # [K]\n",
    "T_coffee = 100.+273.15  # [K]\n",
    "T_tap   = 10. + 273.15 # [K]\n",
    "rho_water = 1000.       # [kg/m^3]\n",
    "\n",
    "Q_shower = V_shower/1000*rho_water*cp*(T_shower-T_tap)\n",
    "Q_coffee = V_coffee/1000*rho_water*cp*(T_coffee-T_tap)\n",
    "\n",
    "print('Shower energy requirement is', Q_shower/3600000, 'kWh')\n",
    "print('Coffee energy requirement is', Q_coffee/3600000, 'kWh')"
   ]
  },
  {
   "cell_type": "markdown",
   "metadata": {
    "slideshow": {
     "slide_type": "slide"
    }
   },
   "source": [
    "## Exercise\n",
    "The 90 m$^2$ house that we considered previously is assumed to lose heat from all its facets, which is not the case in many apartment buildings. Try to update the number by assuming an average value of area per building per person in the Paradise Island and calculate the amount of heat loss from the houses in unit __kWh/(day.person)__. Add energy consumption for cooking to the values for warming, shower, and hot beverages.  \n",
    "A good starting point is [this page](https://withouthotair.com/c7/page_51.shtml) from the book of MacKay.\n"
   ]
  },
  {
   "cell_type": "markdown",
   "metadata": {
    "slideshow": {
     "slide_type": "slide"
    }
   },
   "source": [
    "## Transport\n",
    "Transport is mostly driven by combustion of liquid fuels\n"
   ]
  }
 ],
 "metadata": {
  "celltoolbar": "Slideshow",
  "kernelspec": {
   "display_name": "Python 3",
   "language": "python",
   "name": "python3"
  },
  "language_info": {
   "codemirror_mode": {
    "name": "ipython",
    "version": 3
   },
   "file_extension": ".py",
   "mimetype": "text/x-python",
   "name": "python",
   "nbconvert_exporter": "python",
   "pygments_lexer": "ipython3",
   "version": "3.7.3"
  },
  "toc": {
   "base_numbering": 1,
   "nav_menu": {
    "height": "269px",
    "width": "326px"
   },
   "number_sections": false,
   "sideBar": true,
   "skip_h1_title": false,
   "title_cell": "Table of Contents",
   "title_sidebar": "Contents",
   "toc_cell": false,
   "toc_position": {
    "height": "calc(100% - 180px)",
    "left": "10px",
    "top": "150px",
    "width": "165px"
   },
   "toc_section_display": true,
   "toc_window_display": false
  }
 },
 "nbformat": 4,
 "nbformat_minor": 2
}
