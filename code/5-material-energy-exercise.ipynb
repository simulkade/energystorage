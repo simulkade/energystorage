{
 "cells": [
  {
   "cell_type": "markdown",
   "metadata": {
    "slideshow": {
     "slide_type": "slide"
    }
   },
   "source": [
    "## Material energy\n",
    "* Energy is consumed to make different material out of raw material provided by nature\n",
    "* Nature is mostly at the dead state\n",
    "* Energy is consumed to go from dead state to the new state\n",
    "* It is usually done in multiple steps\n",
    "* The consumed energy is called \"cumulative energy consumption\"\n",
    "* The overall efficiency is called \"cumulative degree of perfection\""
   ]
  },
  {
   "cell_type": "markdown",
   "metadata": {
    "slideshow": {
     "slide_type": "slide"
    }
   },
   "source": [
    "## Examples\n",
    "* making iron out of iron ore\n",
    "* 2 Fe2O3 + 3 C = 2 Fe + 3 CO2\n",
    "* Coal is consumed as a carbon source\n",
    "* The process is done at high temperature -> a lot of exergy destruction"
   ]
  },
  {
   "cell_type": "markdown",
   "metadata": {
    "slideshow": {
     "slide_type": "slide"
    }
   },
   "source": [
    "## Look up some numbers\n",
    "* Look for cumulative degree of perfection, Szargut and coworkers"
   ]
  }
 ],
 "metadata": {
  "celltoolbar": "Slideshow",
  "kernelspec": {
   "display_name": "Python 3",
   "language": "python",
   "name": "python3"
  },
  "language_info": {
   "codemirror_mode": {
    "name": "ipython",
    "version": 3
   },
   "file_extension": ".py",
   "mimetype": "text/x-python",
   "name": "python",
   "nbconvert_exporter": "python",
   "pygments_lexer": "ipython3",
   "version": "3.7.3"
  },
  "toc": {
   "base_numbering": 1,
   "nav_menu": {},
   "number_sections": false,
   "sideBar": true,
   "skip_h1_title": false,
   "title_cell": "Table of Contents",
   "title_sidebar": "Contents",
   "toc_cell": false,
   "toc_position": {},
   "toc_section_display": true,
   "toc_window_display": false
  }
 },
 "nbformat": 4,
 "nbformat_minor": 2
}
