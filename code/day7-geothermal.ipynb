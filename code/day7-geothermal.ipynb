{
 "cells": [
  {
   "cell_type": "code",
   "execution_count": 1,
   "metadata": {},
   "outputs": [],
   "source": [
    "import numpy as np\n",
    "import matplotlib.pyplot as plt"
   ]
  },
  {
   "cell_type": "code",
   "execution_count": 2,
   "metadata": {},
   "outputs": [],
   "source": [
    "rw = 0.15\n",
    "L = 1000\n",
    "q = 100/3600 # m3/s\n",
    "mu = 1e-3\n",
    "k = 1e-12\n",
    "h = 50.0 # m\n",
    "r = np.linspace(rw, L/2, 100)\n",
    "dp = mu*q/(3.14*h*k)*np.log(r/rw)\n"
   ]
  },
  {
   "cell_type": "code",
   "execution_count": 4,
   "metadata": {},
   "outputs": [
    {
     "data": {
      "text/plain": [
       "Text(0, 0.5, 'dp [bar]')"
      ]
     },
     "execution_count": 4,
     "metadata": {},
     "output_type": "execute_result"
    },
    {
     "data": {
      "image/png": "[encoded data removed]",
      "text/plain": [
       "<Figure size 432x288 with 1 Axes>"
      ]
     },
     "metadata": {
      "needs_background": "light"
     },
     "output_type": "display_data"
    }
   ],
   "source": [
    "plt.plot(r, dp/1e5)\n",
    "plt.xlabel('Distance [m]')\n",
    "plt.ylabel('dp [bar]')"
   ]
  },
  {
   "cell_type": "markdown",
   "metadata": {},
   "source": [
    "## Exercise\n",
    "First, change the pressure drop calculation procedure to radial flow and update you yesterday's calculations. As is evident from the above figure, pressure drop around the well is the major contributor to pumping energy consumption (or energy loss) in a geothermal projects. Assume that you can increase the permeability around the well by an stimulation method, i.e., acid injection, hydraulic fracturing, etc. Increase the permeability around the well in both your analytical and numerical models and create a table of energy consumption versus near-well permeability. Calculate the amount of CO2 emission that can be saved by stimulating the wells."
   ]
  }
 ],
 "metadata": {
  "kernelspec": {
   "display_name": "Python 3",
   "language": "python",
   "name": "python3"
  },
  "language_info": {
   "codemirror_mode": {
    "name": "ipython",
    "version": 3
   },
   "file_extension": ".py",
   "mimetype": "text/x-python",
   "name": "python",
   "nbconvert_exporter": "python",
   "pygments_lexer": "ipython3",
   "version": "3.7.3"
  },
  "toc": {
   "base_numbering": 1,
   "nav_menu": {},
   "number_sections": true,
   "sideBar": true,
   "skip_h1_title": false,
   "title_cell": "Table of Contents",
   "title_sidebar": "Contents",
   "toc_cell": false,
   "toc_position": {},
   "toc_section_display": true,
   "toc_window_display": false
  }
 },
 "nbformat": 4,
 "nbformat_minor": 2
}
