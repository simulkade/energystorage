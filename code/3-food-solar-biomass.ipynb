{
 "cells": [
  {
   "cell_type": "markdown",
   "metadata": {
    "slideshow": {
     "slide_type": "slide"
    }
   },
   "source": [
    "## Solar energy, food, and biofuels\n",
    "* Growing food requires energy, air (CO2), water, and nutrients\n",
    "* Animal products (meat and dairy products) are converted plants\n",
    "* Plants can only convert a small fraction of solar energy (2%)\n",
    "* Plants need arable land with a specific composition to grow\n",
    "* Plants are a source of energy for humans and a source of carbon for energy storage"
   ]
  },
  {
   "cell_type": "markdown",
   "metadata": {
    "slideshow": {
     "slide_type": "slide"
    }
   },
   "source": [
    "## Food requirements of humans\n",
    "* An adult needs 3 kWh/day to survive\n",
    "* A European diet with meet and dairy products requires 15 kWh/day of energy\n",
    "  - Partly from the sun and partly for processing/nutrients\n",
    "* Solar radiation brings 100 W/m$^2$ or 2.4 kWh/(m$^2$day)"
   ]
  },
  {
   "cell_type": "markdown",
   "metadata": {
    "slideshow": {
     "slide_type": "slide"
    }
   },
   "source": [
    "## Food and population\n",
    "* Agricultural Revolution (1650)\n",
    "* Industrial Revolution (1760)\n",
    "* Haber-Bosch process (1920)\n",
    "<img src=\"./figs/energy_storage.png\" width=\"500\">\n",
    "\n",
    "Source: Tad Patzek, Chapter 2 of [this book](https://link.springer.com/book/10.1007%2F978-1-4020-8654-0)"
   ]
  },
  {
   "cell_type": "markdown",
   "metadata": {
    "slideshow": {
     "slide_type": "slide"
    }
   },
   "source": [
    "## Haber-Bosch process\n",
    "* Producing ammonia from air and natural gas\n",
    "* Most of the food grows on the fertilizers made of ammonia  \n",
    "N2 + 3 H2 = 2 NH3\n",
    "<img src=\"https://upload.wikimedia.org/wikipedia/commons/1/1e/Fritz_Haber.png\" width=\"300\">"
   ]
  },
  {
   "cell_type": "markdown",
   "metadata": {
    "slideshow": {
     "slide_type": "slide"
    }
   },
   "source": [
    "## Haber-Bosch process for fuel\n",
    "* Combustion of ammonia\n",
    "    - 4 NH3 + 3 O2 = 2 N2 + 6 H2O\n",
    "    - Heat of combustion: 316.8 kJ/mol\n",
    "* Ammonia is produced by\n",
    "    - H2 from the water electrolysis\n",
    "    - N2 from the air\n",
    "    - Both processes driven by wind electricity\n"
   ]
  },
  {
   "cell_type": "markdown",
   "metadata": {
    "slideshow": {
     "slide_type": "slide"
    }
   },
   "source": [
    "## Sabatier reaction\n",
    "* Recycling of CO2\n",
    "    - CO2 + 4 H2 = CH4 + 2 H2O\n",
    "    \n",
    "* Biofuels from gasification of biomass\n",
    "    - CO + 3 H2 = CH4 + H2O"
   ]
  },
  {
   "cell_type": "markdown",
   "metadata": {
    "slideshow": {
     "slide_type": "slide"
    }
   },
   "source": [
    "## Producing synthetic CO2-neutral fossil fuel\n",
    "* Recycling of CO2 to produce methane\n",
    "* Converting plants to hydrocarbons\n",
    "* Converting air and water to ammonia (10 MWh/ton of ammonia)  \n",
    "\n",
    "Subsurface storage of the synthesized fuel\n"
   ]
  },
  {
   "cell_type": "markdown",
   "metadata": {},
   "source": [
    "## Limitations\n",
    "* Renewable electricity requirement\n",
    "* Arable land\n",
    "* Storage space"
   ]
  },
  {
   "cell_type": "markdown",
   "metadata": {
    "slideshow": {
     "slide_type": "slide"
    }
   },
   "source": [
    "## Exercise\n",
    "In the energy transition scenario of the island, it is planed to produce different synthetic fuel as a replacement for the oil and natural gas. Use the calculated value for the oil and gas requirement from the yesterday's exercise and calculate the amount of electricity, land, and storage space that is required to replace it with a synthetic fuel."
   ]
  }
 ],
 "metadata": {
  "celltoolbar": "Slideshow",
  "kernelspec": {
   "display_name": "Python 3",
   "language": "python",
   "name": "python3"
  },
  "language_info": {
   "codemirror_mode": {
    "name": "ipython",
    "version": 3
   },
   "file_extension": ".py",
   "mimetype": "text/x-python",
   "name": "python",
   "nbconvert_exporter": "python",
   "pygments_lexer": "ipython3",
   "version": "3.7.3"
  },
  "toc": {
   "base_numbering": 1,
   "nav_menu": {},
   "number_sections": false,
   "sideBar": true,
   "skip_h1_title": false,
   "title_cell": "Table of Contents",
   "title_sidebar": "Contents",
   "toc_cell": false,
   "toc_position": {},
   "toc_section_display": true,
   "toc_window_display": false
  }
 },
 "nbformat": 4,
 "nbformat_minor": 2
}
