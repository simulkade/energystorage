{
 "cells": [
  {
   "cell_type": "markdown",
   "metadata": {},
   "source": [
    "## Questions\n",
    "1. Describe the first and second law of thermodynamics? Use the following example to describe the concept of exergy: \n",
    "a man wants to warm his house by a large piece of hot stone. The stone contains 10 MJ of heat at 300 $^o$C and the man has access to modern technology. What is the maximum amount of heat that can be extracted from this stone? You can find the answer by reading the exergy chapter from the excellent book of Yunus Çengel, \"Thermodynamics: an engineering approach\".\n",
    "\n",
    "2. Think about one of the energy storage processes that you have designed for the island. Draw the energy streams and describe the energy losses and the main bottlenecks of the process. Suggest one or two methods for improving the process in terms of energy efficiency. Back up your claims by numbers and simple calculations.\n",
    "\n",
    "3. The examiner will give you one or two numbers for the energy production or consumption of a random country or a random process. By consulting your report and notes and performing simple calculations, show the examiner whether the given numbers make sense or not.\n",
    "\n",
    "4. What are the main reasons of energy loss in the underground storage of fluids and energy? Explain it with one/two examples.\n",
    "\n",
    "5. The examiner will show you the process flow diagram or a preliminary design of an energy storage process. Find the main sources of energy loss and the main sources of CO2 emission. Include numbers in your answer.\n",
    "\n",
    "6. What are the reasons that many of the energy extraction and storage processes are still fossil fuel dependent. Use a subsurface energy storage process for discussion and answering this question."
   ]
  }
 ],
 "metadata": {
  "kernelspec": {
   "display_name": "Python 3",
   "language": "python",
   "name": "python3"
  },
  "language_info": {
   "codemirror_mode": {
    "name": "ipython",
    "version": 3
   },
   "file_extension": ".py",
   "mimetype": "text/x-python",
   "name": "python",
   "nbconvert_exporter": "python",
   "pygments_lexer": "ipython3",
   "version": "3.7.3"
  },
  "toc": {
   "base_numbering": 1,
   "nav_menu": {},
   "number_sections": true,
   "sideBar": true,
   "skip_h1_title": false,
   "title_cell": "Table of Contents",
   "title_sidebar": "Contents",
   "toc_cell": false,
   "toc_position": {},
   "toc_section_display": true,
   "toc_window_display": false
  }
 },
 "nbformat": 4,
 "nbformat_minor": 2
}
