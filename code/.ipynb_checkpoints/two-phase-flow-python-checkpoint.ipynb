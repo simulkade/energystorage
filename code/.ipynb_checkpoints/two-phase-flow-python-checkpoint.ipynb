{
 "cells": [
  {
   "cell_type": "markdown",
   "metadata": {},
   "source": [
    "# Two phase flow in porous media\n",
    "The two phae flow equation in porous media read\n",
    "$$\\varphi \\frac{\\partial S_w}{\\partial t} + \\nabla . \\mathbf{u_w} = 0$$\n",
    "\n",
    "In Cartesian coordinate (1D), it reads\n",
    "$$\\varphi \\frac{\\partial S_w}{\\partial t} + u\\frac{\\partial f_w}{\\partial x} = 0$$\n",
    "\n",
    "and in a radial coordinate, it reads\n",
    "$$\\varphi \\frac{\\partial S_w}{\\partial t} + \\frac{u}{r}\\frac{\\partial (r f_w)}{\\partial x} = 0$$"
   ]
  }
 ],
 "metadata": {
  "kernelspec": {
   "display_name": "Python 3",
   "language": "python",
   "name": "python3"
  },
  "language_info": {
   "codemirror_mode": {
    "name": "ipython",
    "version": 3
   },
   "file_extension": ".py",
   "mimetype": "text/x-python",
   "name": "python",
   "nbconvert_exporter": "python",
   "pygments_lexer": "ipython3",
   "version": "3.7.3"
  }
 },
 "nbformat": 4,
 "nbformat_minor": 2
}
