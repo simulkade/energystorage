{
 "cells": [
  {
   "cell_type": "markdown",
   "metadata": {},
   "source": [
    "# Introduction\n",
    "The course \"subsurface fluid and energy storage and extraction\", which is given at the Technical University of Denmark for the first time focuses on the potential and application of subsurface for the storage of energy in different forms. The title already contains several words that need to be clearly defined: energy, fluid, subsurface, storage, extraction. These terms -more or less- summarize the content of the course. There are a few subtopics that are not directly included in the title, e.g., energy efficiency, process equipments, carbon -or more generally any harmful- emissions. Let's start by looking at each word in the title.\n",
    "\n",
    "\n",
    "## Energy\n",
    "Energy is a confusing word. It is hard to define it without using other undefined and confusing terms. In the -high school- physics textbooks, energy is defined as _the ability to do work_. No we have another unknown term: _work_. Work can be defined as \"_energy in transition_\". Probably a more confusing definition not to mention that we have used the term _energy_ to define work. We are in a viscous circle.  \n",
    "I prefer to look at energy as anything that has a _potential_ (to move something). Potential is a relative term. For instance, we say there is potential in wind to rotate a turbine and produce electricity. Inadvertently, we are comparing the wind -flowing air- to a stagnant air that has no potential. The same is with the flowing water, or oil, or a piece of wood. They have potential because they are different than a predefined state that we have in our mind. This difference between two different state is called a _driving force_. Energy provides us with a driving force to _drive_ something. The word force in the term driving force implies the existence of a resistance. We use energy to provide driving force to move something against a resistance. Usually, the energy needs to be converted to a suitable form to provide the required form of driving force. This is done through an equipment that converts energy from one form to another.\n",
    "\n",
    "### Examples\n",
    "  * Using electricity to drive a pump to provide a pressure difference to flow water against the friction in a pipe\n",
    "  * Using wind to provide the pressure difference to rotate a wind mill against the mechanical frictions.\n",
    "  * Using heat to provide a fluid with a higher temperature to transfer heat to a cold room through a radiator (against the heat resistance of different materials)\n",
    "\n",
    "During this course, we constantly work with driving forces and resistances in several different contexts.\n",
    "\n",
    "### Exercise:\n",
    "Write 5 more examples including energy source, driving force, transported medium, and equipment.\n",
    "\n",
    "## Fluid\n",
    "In this course, a fluid refers to a gas or a liquid phase. We look at the thermodynamic and transport properties of fluids, i.e., density, heat capacity, enthalpy, entropy, viscosity, etc. Most of our calculations will be done with the [CoolProp](http://www.coolprop.org/) software that can be called from an spreadsheet tool like Excel or a programming language such as Python. We will also look at the combustion reaction of hydrocarbons and the flow of water, hydrocarbons, air, and carbon dioxide in porous media.\n",
    "\n",
    "## Subsurface\n",
    "Subsurface is any area that is accessible by digging a hole in the Earth. The depth of this hole varies between a few meters to a few thousand meters. We mostly focus on the porous (and permeable) media, i.e., lots of interconnected pores in the underground rocks that can create flow paths for fluids. A sponge (that you might use for washing dishes) is an example of a porous medium. We will learn about the equations that govern the flow of fluids in the sponge-like underground rocks, and how these can be used for the storage of heat and fluids.\n",
    "\n",
    "## Storage and extraction\n",
    "A storage room is a space that we use for things that are currently not needed but will or might be used in the future. The energy that we receive from the sun during a warm and sunny day is mostly unused. It would be convenient to somehow store it in a (large) space and use it, e.g., during the night or in a cloudy cold winter day. Same is with the extra electricity from a windmill or even a coal power plant (not surprisingly, they usually supply more electricity than the actual demand). Storage must be designed and executed having later extraction in mind. Extracting the stored energy needs to be done with minimum efforts (i.e., the lowest costs and energy loss). In other words, the storage must be as close as possible to _reversibility_.  \n",
    "We will discuss these concepts later."
   ]
  },
  {
   "cell_type": "markdown",
   "metadata": {},
   "source": [
    "# Energy requirement\n",
    "We use energy in different forms, for different reasons. We eat food (chemical energy) to survive, enjoy, or even get sick; burn wood (chemical energy) to warm our rooms for survival and comfort; Vikings used wind (kinetic energy) to travel; Dutch used wind to rotate their windmills and grind their wheat and oat to flour; Norwegians use water flowing from a high altitude (potential and kinetic energy) to produce electricity for different purposes; Danes use wind energy to produce part of their electricity requirements; we consume electricity to cook our food, to light up our houses, to refrigerate and preserve our food (another method of energy storage), to cook and warm our food, and to make coffee; we burn coal, oil, and gas to travel, to warm up our space, to drive factories and make products, and to drive those products to the consumers. It is not a trivial job to estimate the amount of energy that we require in our lifetime. However, the late David MacKay tried to do that for the UK, and he published the result of his work in his valuable open-access book [sustainable energy; without the hot air](https://www.withouthotair.com/). He estimates the energy requirement of a typical British person per day. The beauty of his work is that he has given the details of his calculations. In this course, we will follow his work flow, briefly repeated in this subsection, to calculate the energy consumption per day of a person living in the imaginary Paradise Island:\n",
    "![paradise island](./figs/paradise_island_simple.png)"
   ]
  },
  {
   "cell_type": "markdown",
   "metadata": {},
   "source": []
  }
 ],
 "metadata": {
  "celltoolbar": "Raw Cell Format",
  "kernelspec": {
   "display_name": "Python 3",
   "language": "python",
   "name": "python3"
  },
  "language_info": {
   "codemirror_mode": {
    "name": "ipython",
    "version": 3
   },
   "file_extension": ".py",
   "mimetype": "text/x-python",
   "name": "python",
   "nbconvert_exporter": "python",
   "pygments_lexer": "ipython3",
   "version": "3.7.3"
  },
  "toc": {
   "base_numbering": 1,
   "nav_menu": {},
   "number_sections": true,
   "sideBar": true,
   "skip_h1_title": false,
   "title_cell": "Table of Contents",
   "title_sidebar": "Contents",
   "toc_cell": false,
   "toc_position": {},
   "toc_section_display": true,
   "toc_window_display": false
  }
 },
 "nbformat": 4,
 "nbformat_minor": 2
}
