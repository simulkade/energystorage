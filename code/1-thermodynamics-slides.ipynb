{
 "cells": [
  {
   "cell_type": "markdown",
   "metadata": {
    "slideshow": {
     "slide_type": "slide"
    }
   },
   "source": [
    "## First law of thermodynamics\n",
    "$\\delta Q$: heat that is transferred to/from the system  \n",
    "$\\delta W$: work that is done on/by the system  \n",
    "$d U$: change of internal energy of the system  \n",
    "\n",
    "$$d U = \\delta Q + \\delta W$$"
   ]
  },
  {
   "cell_type": "markdown",
   "metadata": {
    "slideshow": {
     "slide_type": "slide"
    }
   },
   "source": [
    "## Heat and entropy\n",
    "Heat is related to entropy with the following relation:\n",
    "$$d S = \\frac{\\delta Q}{T}$$\n",
    "\n",
    "Example: A $Q$ amount of Heat is transferred from an environment at $T_h$ to a system at $T_c$. What is the total change of entropy?  \n",
    "Answer: \n",
    "$$\\Delta S_{env} = \\frac{-Q}{T_h}$$\n",
    "$$\\Delta S_{system} = \\frac{Q}{T_c}$$\n",
    "$$\\Delta S_t = \\Delta S_{env}+ \\Delta S_{system} = \\frac{-Q}{T_h}+\\frac{Q}{T_c}$$"
   ]
  },
  {
   "cell_type": "markdown",
   "metadata": {
    "slideshow": {
     "slide_type": "slide"
    }
   },
   "source": [
    "## Second law of thermodynamics\n",
    "$$\\Delta S_t\\ge 0$$\n",
    "\n",
    "Example: In the previous example, what is the relationship between $T_h$ and $T_c$?  \n",
    "Answer: \n",
    "$$\\Delta S_t = \\frac{-Q}{T_h}+\\frac{Q}{T_c} \\ge 0$$\n",
    "$$\\frac{Q}{T_c} \\ge \\frac{Q}{T_h}$$\n",
    "$$T_c \\le T_h$$\n",
    "Heat always moves from a higher to a lower temperature."
   ]
  },
  {
   "cell_type": "markdown",
   "metadata": {
    "slideshow": {
     "slide_type": "slide"
    }
   },
   "source": [
    "## Carnot engine\n",
    "\n",
    "<img src=\"./figs/carnot.svg\">\n",
    "\n",
    "Second law:\n",
    "$$\\Delta S_t = \\frac{-Q_h}{T_h}+\\frac{Q_c}{T_c} \\ge 0$$\n",
    "$$\\frac{Q_c}{T_c} \\ge \\frac{Q_h}{T_h}$$\n",
    "$$Q_c \\ge Q_h\\frac{T_c}{T_h}$$"
   ]
  },
  {
   "cell_type": "markdown",
   "metadata": {
    "slideshow": {
     "slide_type": "slide"
    }
   },
   "source": [
    "Therefore, the minimum amount of $Q_c$ is obtained when:\n",
    "$$Q_c = Q_h\\frac{T_c}{T_h}$$\n",
    "First law:\n",
    "$$W = Q_h-Q_c=Q_h-Q_h \\frac{T_c}{T_h}=Q_h \\left( 1-\\frac{T_c}{T_h} \\right)$$\n",
    "Define\n",
    "$$\\eta = \\frac{W}{Q_h}=1-\\frac{T_c}{T_h}$$"
   ]
  },
  {
   "cell_type": "markdown",
   "metadata": {
    "slideshow": {
     "slide_type": "slide"
    }
   },
   "source": [
    "## Work\n",
    "Work is defined as the force multiplied by the movement:  \n",
    "$$W=\\mathbf{F}.\\mathbf{n}\\Delta x$$\n",
    "For a piston-cylinder system, force is applied by the pressure inside the cylinder on the piston with a cross-sectional area of $A$  \n",
    "$$W = PA\\Delta x = P(A \\Delta x) = -P \\Delta V$$ \n",
    "Or  \n",
    "$$\\delta W = -P dV$$\n",
    "The negative sign is there to show that work is positive when it's done on the system and negative when the system does work on the environment."
   ]
  },
  {
   "cell_type": "markdown",
   "metadata": {
    "slideshow": {
     "slide_type": "slide"
    }
   },
   "source": [
    "## First law\n",
    "$$d U = \\delta Q + \\delta W$$\n",
    "$$d S = \\frac{\\delta Q}{T}$$\n",
    "$$\\delta W = -P dV$$\n",
    "$$dU = TdS-PdV$$"
   ]
  },
  {
   "cell_type": "markdown",
   "metadata": {
    "slideshow": {
     "slide_type": "slide"
    }
   },
   "source": [
    "## Enthalpy\n",
    "Define:  \n",
    "$$H = U+PV$$\n",
    "$$dH = dU + PdV+VdP$$\n",
    "Replace in the equation for internal energy:  \n",
    "$$dH = TdS-PdV+PdV+VdP = TdS+VdP$$"
   ]
  },
  {
   "cell_type": "markdown",
   "metadata": {
    "slideshow": {
     "slide_type": "slide"
    }
   },
   "source": [
    "## Helmholtz and Gibbs energy\n",
    "For convenience, we define\n",
    "$$A = U-TS$$\n",
    "$$G = H-TS$$\n",
    "Taking the derivatives:  \n",
    "\n",
    "$$dA = dU -TdS-SdT = Tds - PdV -TdS-SdT $$\n",
    "$$dA = -PdV-SdT$$"
   ]
  },
  {
   "cell_type": "markdown",
   "metadata": {
    "slideshow": {
     "slide_type": "slide"
    }
   },
   "source": [
    "## Gibbs energy\n",
    "$$dG = dH-TdS-SdT = TdS+VdP-TdS-SdT$$\n",
    "$$dG = VdP-SdT$$"
   ]
  }
 ],
 "metadata": {
  "celltoolbar": "Slideshow",
  "kernelspec": {
   "display_name": "Python 3",
   "language": "python",
   "name": "python3"
  },
  "language_info": {
   "codemirror_mode": {
    "name": "ipython",
    "version": 3
   },
   "file_extension": ".py",
   "mimetype": "text/x-python",
   "name": "python",
   "nbconvert_exporter": "python",
   "pygments_lexer": "ipython3",
   "version": "3.7.3"
  },
  "toc": {
   "base_numbering": 1,
   "nav_menu": {},
   "number_sections": false,
   "sideBar": true,
   "skip_h1_title": false,
   "title_cell": "Table of Contents",
   "title_sidebar": "Contents",
   "toc_cell": false,
   "toc_position": {
    "height": "calc(100% - 180px)",
    "left": "10px",
    "top": "150px",
    "width": "165px"
   },
   "toc_section_display": true,
   "toc_window_display": false
  }
 },
 "nbformat": 4,
 "nbformat_minor": 2
}
