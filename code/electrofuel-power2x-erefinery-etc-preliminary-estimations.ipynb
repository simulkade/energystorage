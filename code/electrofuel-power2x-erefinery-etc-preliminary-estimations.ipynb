{
 "cells": [
  {
   "cell_type": "code",
   "execution_count": 1,
   "metadata": {
    "slideshow": {
     "slide_type": "skip"
    }
   },
   "outputs": [],
   "source": [
    "from graphviz import Digraph\n",
    "# import thermo.chemical as chem\n",
    "import CoolProp.CoolProp as CP\n",
    "import sys, os\n",
    "import pandas as pd\n",
    "import numpy as np\n",
    "sys.path.append(os.path.join(os.getcwd(), '..', 'data'))"
   ]
  },
  {
   "cell_type": "code",
   "execution_count": 2,
   "metadata": {
    "slideshow": {
     "slide_type": "skip"
    }
   },
   "outputs": [],
   "source": [
    "import thermo_data_simple as tds"
   ]
  },
  {
   "cell_type": "code",
   "execution_count": 3,
   "metadata": {},
   "outputs": [
    {
     "data": {
      "text/html": [
       "<div>\n",
       "<style scoped>\n",
       "    .dataframe tbody tr th:only-of-type {\n",
       "        vertical-align: middle;\n",
       "    }\n",
       "\n",
       "    .dataframe tbody tr th {\n",
       "        vertical-align: top;\n",
       "    }\n",
       "\n",
       "    .dataframe thead th {\n",
       "        text-align: right;\n",
       "    }\n",
       "</style>\n",
       "<table border=\"1\" class=\"dataframe\">\n",
       "  <thead>\n",
       "    <tr style=\"text-align: right;\">\n",
       "      <th></th>\n",
       "      <th>component</th>\n",
       "      <th>chem_exergy</th>\n",
       "    </tr>\n",
       "  </thead>\n",
       "  <tbody>\n",
       "    <tr>\n",
       "      <th>0</th>\n",
       "      <td>methanol</td>\n",
       "      <td>718.00</td>\n",
       "    </tr>\n",
       "    <tr>\n",
       "      <th>1</th>\n",
       "      <td>ethanol</td>\n",
       "      <td>1356.90</td>\n",
       "    </tr>\n",
       "    <tr>\n",
       "      <th>2</th>\n",
       "      <td>ammonia</td>\n",
       "      <td>337.90</td>\n",
       "    </tr>\n",
       "    <tr>\n",
       "      <th>3</th>\n",
       "      <td>methane</td>\n",
       "      <td>831.20</td>\n",
       "    </tr>\n",
       "    <tr>\n",
       "      <th>4</th>\n",
       "      <td>hydrogen</td>\n",
       "      <td>236.09</td>\n",
       "    </tr>\n",
       "  </tbody>\n",
       "</table>\n",
       "</div>"
      ],
      "text/plain": [
       "  component  chem_exergy\n",
       "0  methanol       718.00\n",
       "1   ethanol      1356.90\n",
       "2   ammonia       337.90\n",
       "3   methane       831.20\n",
       "4  hydrogen       236.09"
      ]
     },
     "execution_count": 3,
     "metadata": {},
     "output_type": "execute_result"
    }
   ],
   "source": [
    "chem_ex = pd.read_csv('chem_ex.csv')\n",
    "chem_ex"
   ]
  },
  {
   "cell_type": "code",
   "execution_count": 4,
   "metadata": {},
   "outputs": [
    {
     "data": {
      "text/plain": [
       "[718.0]"
      ]
     },
     "execution_count": 4,
     "metadata": {},
     "output_type": "execute_result"
    }
   ],
   "source": [
    "ex=chem_ex.set_index('component').T.to_dict('list')\n",
    "ex['methanol']\n",
    "# chem_ex['component'][1]"
   ]
  },
  {
   "cell_type": "markdown",
   "metadata": {
    "slideshow": {
     "slide_type": "slide"
    }
   },
   "source": [
    "## Electrolysis\n",
    "H2O + energy = H2 + 1/2 O2  \n",
    "For the efficiency of electrolysis process, see [here](https://en.wikipedia.org/wiki/Electrolysis_of_water#Efficiency)\n",
    "* Alkaline technology: ~ 70%\n",
    "* Proton Exchange Membranes (PEM): ~ 80% (and apparently increasing)"
   ]
  },
  {
   "cell_type": "markdown",
   "metadata": {
    "slideshow": {
     "slide_type": "slide"
    }
   },
   "source": [
    "## Other methods\n",
    "* See [this](https://www.energy.gov/sites/prod/files/2017/11/f46/HPTT%20Roadmap%20FY17%20Final_Nov%202017.pdf)\n",
    "* Also see [this](https://www.sciencedirect.com/science/article/pii/S0360319919345276)"
   ]
  },
  {
   "cell_type": "code",
   "execution_count": 5,
   "metadata": {
    "slideshow": {
     "slide_type": "skip"
    }
   },
   "outputs": [
    {
     "data": {
      "text/plain": [
       "345448.5714285715"
      ]
     },
     "execution_count": 5,
     "metadata": {},
     "output_type": "execute_result"
    }
   ],
   "source": [
    "# Electrolysis reaction and its energy requirement\n",
    "h_form_H2O = tds.get_property('H2O', 'dh_form')\n",
    "dg_electrolysis = tds.get_property('H2', 'dg_form')+ \\\n",
    "                  1/2*tds.get_property('O2', 'dg_form')- \\\n",
    "                  tds.get_property('H2O', 'dg_form')\n",
    "dh_electrolysis = -h_form_H2O # J/mol\n",
    "dh_electrolysis, dg_electrolysis # J/mol\n",
    "\n",
    "T_env = 20+273.15\n",
    "p_env = 1.01e5 # Pa\n",
    "rho_H2 = CP.PropsSI('DMOLAR', 'T', T_env, 'P', p_env, 'H2') # m3/mol\n",
    "eta_electrolysis = 0.7 # efficiency\n",
    "ex_H2_prod = dh_electrolysis/eta_electrolysis\n",
    "ex_H2_prod # J/mol at environmental condition"
   ]
  },
  {
   "cell_type": "code",
   "execution_count": 9,
   "metadata": {},
   "outputs": [
    {
     "name": "stdout",
     "output_type": "stream",
     "text": [
      "440.63955629057955\n"
     ]
    }
   ],
   "source": [
    "# another way!\n",
    "ex_electrolys = np.array([4.5, 5.5]) # kWh/m3 at standard condition\n",
    "rho_h2 = CP.PropsSI('DMOLAR', 'T', 25+273.15, 'P', 101325, 'H2') # mol/m3\n",
    "# rho_h2, 101325/(8.314*(25+273.15)) # seems correct\n",
    "ex_H2 = np.mean(ex_electrolys*3600/rho_h2) # kJ/mol\n",
    "print(ex_H2)"
   ]
  },
  {
   "cell_type": "markdown",
   "metadata": {
    "slideshow": {
     "slide_type": "slide"
    }
   },
   "source": [
    "## CO2 recycling\n",
    "Sabatier reaction:  \n",
    "CO2 + 4 H2 = CH4 + 2 H2O  \n",
    "At 400 degC  \n",
    "High pressure (assume 100 bar)  "
   ]
  },
  {
   "cell_type": "code",
   "execution_count": 44,
   "metadata": {},
   "outputs": [
    {
     "data": {
      "image/svg+xml": [
       "<?xml version=\"1.0\" encoding=\"UTF-8\" standalone=\"no\"?>\n",
       "<!DOCTYPE svg PUBLIC \"-//W3C//DTD SVG 1.1//EN\"\n",
       " \"http://www.w3.org/Graphics/SVG/1.1/DTD/svg11.dtd\">\n",
       "<!-- Generated by graphviz version 2.42.3 (20191010.1750)\n",
       " -->\n",
       "<!-- Title: Process flow diagram Pages: 1 -->\n",
       "<svg width=\"634pt\" height=\"152pt\"\n",
       " viewBox=\"0.00 0.00 634.00 152.00\" xmlns=\"http://www.w3.org/2000/svg\" xmlns:xlink=\"http://www.w3.org/1999/xlink\">\n",
       "<g id=\"graph0\" class=\"graph\" transform=\"scale(1 1) rotate(0) translate(4 148)\">\n",
       "<title>Process flow diagram</title>\n",
       "<polygon fill=\"white\" stroke=\"transparent\" points=\"-4,4 -4,-148 630,-148 630,4 -4,4\"/>\n",
       "<!-- CO2 -->\n",
       "<g id=\"node1\" class=\"node\">\n",
       "<title>CO2</title>\n",
       "<text text-anchor=\"middle\" x=\"258.5\" y=\"-14.3\" font-family=\"Times,serif\" font-size=\"14.00\">Carbon dioxide</text>\n",
       "</g>\n",
       "<!-- HP -->\n",
       "<g id=\"node6\" class=\"node\">\n",
       "<title>HP</title>\n",
       "<polygon fill=\"none\" stroke=\"black\" points=\"524,-98.5 418,-98.5 418,-45.5 524,-45.5 524,-98.5\"/>\n",
       "<text text-anchor=\"middle\" x=\"471\" y=\"-83.3\" font-family=\"Times,serif\" font-size=\"14.00\">Sabatier Process</text>\n",
       "<text text-anchor=\"middle\" x=\"471\" y=\"-68.3\" font-family=\"Times,serif\" font-size=\"14.00\">T=673 K</text>\n",
       "<text text-anchor=\"middle\" x=\"471\" y=\"-53.3\" font-family=\"Times,serif\" font-size=\"14.00\">P=100 bar</text>\n",
       "</g>\n",
       "<!-- CO2&#45;&gt;HP -->\n",
       "<g id=\"edge1\" class=\"edge\">\n",
       "<title>CO2&#45;&gt;HP</title>\n",
       "<path fill=\"none\" stroke=\"black\" d=\"M309.31,-30.14C336.2,-36.76 369.96,-45.18 400,-53 402.6,-53.68 405.24,-54.37 407.92,-55.08\"/>\n",
       "<polygon fill=\"black\" stroke=\"black\" points=\"407.1,-58.48 417.66,-57.67 408.9,-51.72 407.1,-58.48\"/>\n",
       "<text text-anchor=\"middle\" x=\"363.5\" y=\"-56.8\" font-family=\"Times,serif\" font-size=\"14.00\">Compression</text>\n",
       "</g>\n",
       "<!-- H2 -->\n",
       "<g id=\"node2\" class=\"node\">\n",
       "<title>H2</title>\n",
       "<text text-anchor=\"middle\" x=\"258.5\" y=\"-122.3\" font-family=\"Times,serif\" font-size=\"14.00\">Hydrogen</text>\n",
       "</g>\n",
       "<!-- H2&#45;&gt;HP -->\n",
       "<g id=\"edge2\" class=\"edge\">\n",
       "<title>H2&#45;&gt;HP</title>\n",
       "<path fill=\"none\" stroke=\"black\" d=\"M294.26,-117.08C325.13,-109.16 370.98,-97.4 408.1,-87.88\"/>\n",
       "<polygon fill=\"black\" stroke=\"black\" points=\"409.01,-91.26 417.83,-85.38 407.28,-84.48 409.01,-91.26\"/>\n",
       "<text text-anchor=\"middle\" x=\"363.5\" y=\"-111.8\" font-family=\"Times,serif\" font-size=\"14.00\">Compression</text>\n",
       "</g>\n",
       "<!-- Air -->\n",
       "<g id=\"node3\" class=\"node\">\n",
       "<title>Air</title>\n",
       "<text text-anchor=\"middle\" x=\"27\" y=\"-14.3\" font-family=\"Times,serif\" font-size=\"14.00\">Air</text>\n",
       "</g>\n",
       "<!-- CD -->\n",
       "<g id=\"node7\" class=\"node\">\n",
       "<title>CD</title>\n",
       "<polygon fill=\"none\" stroke=\"black\" points=\"170,-36 92,-36 92,0 170,0 170,-36\"/>\n",
       "<text text-anchor=\"middle\" x=\"131\" y=\"-14.3\" font-family=\"Times,serif\" font-size=\"14.00\">Air capture</text>\n",
       "</g>\n",
       "<!-- Air&#45;&gt;CD -->\n",
       "<g id=\"edge4\" class=\"edge\">\n",
       "<title>Air&#45;&gt;CD</title>\n",
       "<path fill=\"none\" stroke=\"black\" d=\"M54,-18C62.41,-18 72.03,-18 81.52,-18\"/>\n",
       "<polygon fill=\"black\" stroke=\"black\" points=\"81.72,-21.5 91.72,-18 81.72,-14.5 81.72,-21.5\"/>\n",
       "</g>\n",
       "<!-- Methane -->\n",
       "<g id=\"node4\" class=\"node\">\n",
       "<title>Methane</title>\n",
       "<text text-anchor=\"middle\" x=\"593.5\" y=\"-68.3\" font-family=\"Times,serif\" font-size=\"14.00\">Methane</text>\n",
       "</g>\n",
       "<!-- Water -->\n",
       "<g id=\"node5\" class=\"node\">\n",
       "<title>Water</title>\n",
       "<text text-anchor=\"middle\" x=\"27\" y=\"-122.3\" font-family=\"Times,serif\" font-size=\"14.00\">Water</text>\n",
       "</g>\n",
       "<!-- Electrolysis -->\n",
       "<g id=\"node8\" class=\"node\">\n",
       "<title>Electrolysis</title>\n",
       "<polygon fill=\"none\" stroke=\"black\" points=\"171,-144 91,-144 91,-108 171,-108 171,-144\"/>\n",
       "<text text-anchor=\"middle\" x=\"131\" y=\"-122.3\" font-family=\"Times,serif\" font-size=\"14.00\">Electrolysis</text>\n",
       "</g>\n",
       "<!-- Water&#45;&gt;Electrolysis -->\n",
       "<g id=\"edge6\" class=\"edge\">\n",
       "<title>Water&#45;&gt;Electrolysis</title>\n",
       "<path fill=\"none\" stroke=\"black\" d=\"M54,-126C62.24,-126 71.63,-126 80.93,-126\"/>\n",
       "<polygon fill=\"black\" stroke=\"black\" points=\"80.94,-129.5 90.94,-126 80.94,-122.5 80.94,-129.5\"/>\n",
       "</g>\n",
       "<!-- HP&#45;&gt;Methane -->\n",
       "<g id=\"edge3\" class=\"edge\">\n",
       "<title>HP&#45;&gt;Methane</title>\n",
       "<path fill=\"none\" stroke=\"black\" d=\"M524.15,-72C533.02,-72 542.12,-72 550.67,-72\"/>\n",
       "<polygon fill=\"black\" stroke=\"black\" points=\"550.78,-75.5 560.78,-72 550.78,-68.5 550.78,-75.5\"/>\n",
       "</g>\n",
       "<!-- CD&#45;&gt;CO2 -->\n",
       "<g id=\"edge5\" class=\"edge\">\n",
       "<title>CD&#45;&gt;CO2</title>\n",
       "<path fill=\"none\" stroke=\"black\" d=\"M170.34,-18C179.02,-18 188.44,-18 197.77,-18\"/>\n",
       "<polygon fill=\"black\" stroke=\"black\" points=\"197.82,-21.5 207.82,-18 197.82,-14.5 197.82,-21.5\"/>\n",
       "</g>\n",
       "<!-- Electrolysis&#45;&gt;H2 -->\n",
       "<g id=\"edge7\" class=\"edge\">\n",
       "<title>Electrolysis&#45;&gt;H2</title>\n",
       "<path fill=\"none\" stroke=\"black\" d=\"M171.02,-126C184.21,-126 199.04,-126 212.64,-126\"/>\n",
       "<polygon fill=\"black\" stroke=\"black\" points=\"212.76,-129.5 222.76,-126 212.76,-122.5 212.76,-129.5\"/>\n",
       "</g>\n",
       "<!-- Heat -->\n",
       "<g id=\"node9\" class=\"node\">\n",
       "<title>Heat</title>\n",
       "<polygon fill=\"none\" stroke=\"red\" points=\"285.5,-90 231.5,-90 231.5,-54 285.5,-54 285.5,-90\"/>\n",
       "<text text-anchor=\"middle\" x=\"258.5\" y=\"-68.3\" font-family=\"Times,serif\" font-size=\"14.00\" fill=\"red\">Heat</text>\n",
       "</g>\n",
       "<!-- Heat&#45;&gt;HP -->\n",
       "<g id=\"edge8\" class=\"edge\">\n",
       "<title>Heat&#45;&gt;HP</title>\n",
       "<path fill=\"none\" stroke=\"red\" d=\"M285.73,-72C316.11,-72 367.19,-72 407.87,-72\"/>\n",
       "<polygon fill=\"red\" stroke=\"red\" points=\"407.97,-75.5 417.97,-72 407.97,-68.5 407.97,-75.5\"/>\n",
       "</g>\n",
       "</g>\n",
       "</svg>\n"
      ],
      "text/plain": [
       "<graphviz.dot.Digraph at 0x7f848b9f3d50>"
      ]
     },
     "execution_count": 44,
     "metadata": {},
     "output_type": "execute_result"
    }
   ],
   "source": [
    "# sabatier\n",
    "f = Digraph('Process flow diagram', format='svg', filename='sabatier.gv')\n",
    "f.attr(rankdir='LR', size='10,6')\n",
    "\n",
    "f.attr('node', shape = 'none')\n",
    "f.node('CO2', label = 'Carbon dioxide')\n",
    "f.node('H2', label = 'Hydrogen')\n",
    "f.node('Air')\n",
    "f.node('Methane')\n",
    "f.node('Water')\n",
    "\n",
    "f.attr('node', shape = 'rectangle')\n",
    "f.node('HP', label = 'Sabatier Process\\nT=673 K\\nP=100 bar')\n",
    "f.node('CD', label = 'Air capture')\n",
    "f.node('Electrolysis')\n",
    "\n",
    "f.edge('CO2', 'HP', label='Compression')\n",
    "f.edge('H2', 'HP', label='Compression')\n",
    "f.edge('HP', 'Methane')\n",
    "f.edge('Air', 'CD')\n",
    "f.edge('CD', 'CO2')\n",
    "f.edge('Water', 'Electrolysis')\n",
    "f.edge('Electrolysis', 'H2')\n",
    "f.edge('Heat', 'HP', color='red')\n",
    "f.node('Heat', color='red', fontcolor='red')\n",
    "\n",
    "f.render()\n",
    "f"
   ]
  },
  {
   "cell_type": "code",
   "execution_count": 14,
   "metadata": {},
   "outputs": [],
   "source": [
    "from CoolProp.CoolProp import PropsSI"
   ]
  },
  {
   "cell_type": "code",
   "execution_count": 33,
   "metadata": {},
   "outputs": [
    {
     "name": "stdout",
     "output_type": "stream",
     "text": [
      "4.0\n",
      "3.1622776601683795\n",
      "16.124685597909266\n",
      "67.69161149397908 kJ/mol\n",
      "47.3090348998848 kJ/mol\n",
      "2293.6835571540914 kJ/mol\n",
      "[831.2]\n",
      "sabatier efficiency =  [0.36238652]\n"
     ]
    }
   ],
   "source": [
    "# Sabatier reaction\n",
    "# assume full conversion\n",
    "ex_CO2 = 400 # kJ/mol\n",
    "p_r = 100e5 # Pa\n",
    "T_r = 400+273.15 # K\n",
    "p_in = 1e5 # Pa\n",
    "T_in = 273.15+25 # K\n",
    "pr = 3.5\n",
    "\n",
    "eta_comp = 0.8\n",
    "\n",
    "# 100 bar, 3 stage compressor\n",
    "n = np.round(np.log(p_r/p_in)/np.log(pr))\n",
    "print(n)\n",
    "pr = np.exp(np.log(p_r/p_in)/round(n))\n",
    "print(pr)\n",
    "\n",
    "S_in = PropsSI('Smolar', 'T', T_in, 'P', p_in, 'CO2')\n",
    "H_in = PropsSI('Hmolar', 'T', T_in, 'P', p_in, 'CO2')\n",
    "S_out = S_in\n",
    "H_out = PropsSI('Hmolar', 'P', pr*p_in, 'Smolar', S_out, 'CO2')\n",
    "comp_power_CO2 = n*(H_out-H_in)/eta_comp/1000 # kJ/mol\n",
    "T_comp = PropsSI('T', 'P', pr*p_in, 'Smolar', S_out, 'CO2')\n",
    "print(comp_power_CO2)\n",
    "\n",
    "\n",
    "S_in = PropsSI('Smolar', 'T', T_in, 'P', p_in, 'H2')\n",
    "H_in = PropsSI('Hmolar', 'T', T_in, 'P', p_in, 'H2')\n",
    "S_out = S_in\n",
    "H_out = PropsSI('Hmolar', 'P', pr*p_in, 'Smolar', S_out, 'H2')\n",
    "comp_power_H2 = 4*n*(H_out-H_in)/eta_comp/1000 # kJ/mol\n",
    "print(comp_power_H2, 'kJ/mol')\n",
    "\n",
    "ex_warm = PropsSI('Hmolar', 'T', T_r, 'P', p_in, 'CO2')+4*PropsSI('Hmolar', 'T', T_r, 'P', p_in, 'H2')- \\\n",
    "PropsSI('Hmolar', 'T', T_comp, 'P', p_in, 'CO2')-4*PropsSI('Hmolar', 'T', T_comp, 'P', p_in, 'H2')\n",
    "ex_warm = ex_warm/1000 # kJ/mol\n",
    "print(ex_warm, 'kJ/mol')\n",
    "\n",
    "ex_sabatier = ex_CO2+4*ex_H2+comp_power_CO2+comp_power_H2+ex_warm\n",
    "\n",
    "print(ex_sabatier, 'kJ/mol')\n",
    "print(ex['methane'])\n",
    "\n",
    "print('sabatier efficiency = ', ex['methane']/ex_sabatier)"
   ]
  },
  {
   "cell_type": "code",
   "execution_count": 25,
   "metadata": {},
   "outputs": [
    {
     "data": {
      "text/plain": [
       "381.8647512506523"
      ]
     },
     "execution_count": 25,
     "metadata": {},
     "output_type": "execute_result"
    }
   ],
   "source": []
  },
  {
   "cell_type": "markdown",
   "metadata": {
    "slideshow": {
     "slide_type": "slide"
    }
   },
   "source": [
    "Energy requirement:\n",
    "* CO2 production or extraction\n",
    "    - extraction from the air\n",
    "    - biomass\n",
    "    - Fossil-fuel based\n",
    "* H2 production\n",
    "* Compression and heat"
   ]
  },
  {
   "cell_type": "code",
   "execution_count": 7,
   "metadata": {
    "slideshow": {
     "slide_type": "skip"
    }
   },
   "outputs": [
    {
     "data": {
      "image/svg+xml": [
       "<?xml version=\"1.0\" encoding=\"UTF-8\" standalone=\"no\"?>\r\n",
       "<!DOCTYPE svg PUBLIC \"-//W3C//DTD SVG 1.1//EN\"\r\n",
       " \"http://www.w3.org/Graphics/SVG/1.1/DTD/svg11.dtd\">\r\n",
       "<!-- Generated by graphviz version 2.38.0 (20140413.2041)\r\n",
       " -->\r\n",
       "<!-- Title: Process flow diagram Pages: 1 -->\r\n",
       "<svg width=\"639pt\" height=\"98pt\"\r\n",
       " viewBox=\"0.00 0.00 639.00 98.00\" xmlns=\"http://www.w3.org/2000/svg\" xmlns:xlink=\"http://www.w3.org/1999/xlink\">\r\n",
       "<g id=\"graph0\" class=\"graph\" transform=\"scale(1 1) rotate(0) translate(4 94)\">\r\n",
       "<title>Process flow diagram</title>\r\n",
       "<polygon fill=\"white\" stroke=\"none\" points=\"-4,4 -4,-94 635,-94 635,4 -4,4\"/>\r\n",
       "<!-- N2 -->\r\n",
       "<g id=\"node1\" class=\"node\"><title>N2</title>\r\n",
       "<text text-anchor=\"middle\" x=\"298\" y=\"-14.3\" font-family=\"Times New Roman,serif\" font-size=\"14.00\">Nitrogen</text>\r\n",
       "</g>\r\n",
       "<!-- HP -->\r\n",
       "<g id=\"node6\" class=\"node\"><title>HP</title>\r\n",
       "<polygon fill=\"none\" stroke=\"black\" points=\"486,-65 387,-65 387,-29 486,-29 486,-65\"/>\r\n",
       "<text text-anchor=\"middle\" x=\"436.5\" y=\"-43.3\" font-family=\"Times New Roman,serif\" font-size=\"14.00\">Haber Process</text>\r\n",
       "</g>\r\n",
       "<!-- N2&#45;&gt;HP -->\r\n",
       "<g id=\"edge1\" class=\"edge\"><title>N2&#45;&gt;HP</title>\r\n",
       "<path fill=\"none\" stroke=\"black\" d=\"M330.659,-24.7261C344.486,-27.6636 361.157,-31.2055 377.097,-34.592\"/>\r\n",
       "<polygon fill=\"black\" stroke=\"black\" points=\"376.386,-38.0189 386.895,-36.6736 377.84,-31.1718 376.386,-38.0189\"/>\r\n",
       "<text text-anchor=\"middle\" x=\"360.5\" y=\"-35.8\" font-family=\"Times New Roman,serif\" font-size=\"14.00\">N2</text>\r\n",
       "</g>\r\n",
       "<!-- H2 -->\r\n",
       "<g id=\"node2\" class=\"node\"><title>H2</title>\r\n",
       "<text text-anchor=\"middle\" x=\"298\" y=\"-68.3\" font-family=\"Times New Roman,serif\" font-size=\"14.00\">Hydrogen</text>\r\n",
       "</g>\r\n",
       "<!-- H2&#45;&gt;HP -->\r\n",
       "<g id=\"edge2\" class=\"edge\"><title>H2&#45;&gt;HP</title>\r\n",
       "<path fill=\"none\" stroke=\"black\" d=\"M334.152,-65.5619C347.181,-63.1757 362.333,-60.4006 376.888,-57.7348\"/>\r\n",
       "<polygon fill=\"black\" stroke=\"black\" points=\"377.63,-61.1572 386.836,-55.9128 376.369,-54.2717 377.63,-61.1572\"/>\r\n",
       "<text text-anchor=\"middle\" x=\"360.5\" y=\"-64.8\" font-family=\"Times New Roman,serif\" font-size=\"14.00\">H2</text>\r\n",
       "</g>\r\n",
       "<!-- Air -->\r\n",
       "<g id=\"node3\" class=\"node\"><title>Air</title>\r\n",
       "<text text-anchor=\"middle\" x=\"27\" y=\"-14.3\" font-family=\"Times New Roman,serif\" font-size=\"14.00\">Air</text>\r\n",
       "</g>\r\n",
       "<!-- CD -->\r\n",
       "<g id=\"node7\" class=\"node\"><title>CD</title>\r\n",
       "<polygon fill=\"none\" stroke=\"black\" points=\"225,-36 91,-36 91,-0 225,-0 225,-36\"/>\r\n",
       "<text text-anchor=\"middle\" x=\"158\" y=\"-14.3\" font-family=\"Times New Roman,serif\" font-size=\"14.00\">Cryogenic distillation</text>\r\n",
       "</g>\r\n",
       "<!-- Air&#45;&gt;CD -->\r\n",
       "<g id=\"edge4\" class=\"edge\"><title>Air&#45;&gt;CD</title>\r\n",
       "<path fill=\"none\" stroke=\"black\" d=\"M54.1051,-18C62.0826,-18 71.2923,-18 80.8551,-18\"/>\r\n",
       "<polygon fill=\"black\" stroke=\"black\" points=\"80.9117,-21.5001 90.9117,-18 80.9116,-14.5001 80.9117,-21.5001\"/>\r\n",
       "</g>\r\n",
       "<!-- NH3 -->\r\n",
       "<g id=\"node4\" class=\"node\"><title>NH3</title>\r\n",
       "<text text-anchor=\"middle\" x=\"604\" y=\"-43.3\" font-family=\"Times New Roman,serif\" font-size=\"14.00\">NH3</text>\r\n",
       "</g>\r\n",
       "<!-- Water -->\r\n",
       "<g id=\"node5\" class=\"node\"><title>Water</title>\r\n",
       "<text text-anchor=\"middle\" x=\"27\" y=\"-68.3\" font-family=\"Times New Roman,serif\" font-size=\"14.00\">Water</text>\r\n",
       "</g>\r\n",
       "<!-- Electrolysis -->\r\n",
       "<g id=\"node8\" class=\"node\"><title>Electrolysis</title>\r\n",
       "<polygon fill=\"none\" stroke=\"black\" points=\"198.5,-90 117.5,-90 117.5,-54 198.5,-54 198.5,-90\"/>\r\n",
       "<text text-anchor=\"middle\" x=\"158\" y=\"-68.3\" font-family=\"Times New Roman,serif\" font-size=\"14.00\">Electrolysis</text>\r\n",
       "</g>\r\n",
       "<!-- Water&#45;&gt;Electrolysis -->\r\n",
       "<g id=\"edge6\" class=\"edge\"><title>Water&#45;&gt;Electrolysis</title>\r\n",
       "<path fill=\"none\" stroke=\"black\" d=\"M54.1051,-72C69.3772,-72 89.1647,-72 107.302,-72\"/>\r\n",
       "<polygon fill=\"black\" stroke=\"black\" points=\"107.455,-75.5001 117.455,-72 107.455,-68.5001 107.455,-75.5001\"/>\r\n",
       "</g>\r\n",
       "<!-- HP&#45;&gt;NH3 -->\r\n",
       "<g id=\"edge3\" class=\"edge\"><title>HP&#45;&gt;NH3</title>\r\n",
       "<path fill=\"none\" stroke=\"black\" d=\"M486.26,-47C511.893,-47 542.791,-47 566.36,-47\"/>\r\n",
       "<polygon fill=\"black\" stroke=\"black\" points=\"566.627,-50.5001 576.627,-47 566.627,-43.5001 566.627,-50.5001\"/>\r\n",
       "<text text-anchor=\"middle\" x=\"531.5\" y=\"-50.8\" font-family=\"Times New Roman,serif\" font-size=\"14.00\">Ammonia</text>\r\n",
       "</g>\r\n",
       "<!-- CD&#45;&gt;N2 -->\r\n",
       "<g id=\"edge5\" class=\"edge\"><title>CD&#45;&gt;N2</title>\r\n",
       "<path fill=\"none\" stroke=\"black\" d=\"M225.171,-18C235.323,-18 245.557,-18 254.992,-18\"/>\r\n",
       "<polygon fill=\"black\" stroke=\"black\" points=\"255.258,-21.5001 265.257,-18 255.257,-14.5001 255.258,-21.5001\"/>\r\n",
       "</g>\r\n",
       "<!-- Electrolysis&#45;&gt;H2 -->\r\n",
       "<g id=\"edge7\" class=\"edge\"><title>Electrolysis&#45;&gt;H2</title>\r\n",
       "<path fill=\"none\" stroke=\"black\" d=\"M198.545,-72C215.034,-72 234.286,-72 251.371,-72\"/>\r\n",
       "<polygon fill=\"black\" stroke=\"black\" points=\"251.684,-75.5001 261.684,-72 251.684,-68.5001 251.684,-75.5001\"/>\r\n",
       "</g>\r\n",
       "</g>\r\n",
       "</svg>\r\n"
      ],
      "text/plain": [
       "<graphviz.dot.Digraph at 0x205d0e1bcf8>"
      ]
     },
     "execution_count": 7,
     "metadata": {},
     "output_type": "execute_result"
    }
   ],
   "source": [
    "f = Digraph('Process flow diagram', format='svg', filename='fsm.gv')\n",
    "f.attr(rankdir='LR', size='10,6')\n",
    "\n",
    "f.attr('node', shape = 'none')\n",
    "f.node('N2', label = 'Nitrogen')\n",
    "f.node('H2', label = 'Hydrogen')\n",
    "f.node('Air')\n",
    "f.node('NH3')\n",
    "f.node('Water')\n",
    "\n",
    "f.attr('node', shape = 'rectangle')\n",
    "f.node('HP', label = 'Haber Process')\n",
    "f.node('CD', label = 'Cryogenic distillation')\n",
    "f.node('Electrolysis')\n",
    "\n",
    "f.edge('N2', 'HP', label='N2')\n",
    "f.edge('H2', 'HP', label='H2')\n",
    "f.edge('HP', 'NH3', label='Ammonia')\n",
    "f.edge('Air', 'CD')\n",
    "f.edge('CD', 'N2')\n",
    "f.edge('Water', 'Electrolysis')\n",
    "f.edge('Electrolysis', 'H2')\n",
    "\n",
    "f.render()\n",
    "f"
   ]
  },
  {
   "cell_type": "markdown",
   "metadata": {
    "slideshow": {
     "slide_type": "slide"
    }
   },
   "source": [
    "## Process flow diagram\n",
    "![pfd](./fsm.gv.svg)"
   ]
  },
  {
   "cell_type": "code",
   "execution_count": 6,
   "metadata": {
    "slideshow": {
     "slide_type": "skip"
    }
   },
   "outputs": [],
   "source": [
    "T = 400+273.15 # K\n",
    "P = 100e5 # Pa\n",
    "# skip the thermo package for the time being\n",
    "# CO2 = chem.Chemical('CO2', T=T, P=P)\n",
    "# H2 = chem.Chemical('H2')\n",
    "# CH4 = chem.Chemical('CH4')\n",
    "# H2O = chem.Chemical('H2O')"
   ]
  },
  {
   "cell_type": "code",
   "execution_count": 16,
   "metadata": {
    "slideshow": {
     "slide_type": "skip"
    }
   },
   "outputs": [
    {
     "data": {
      "text/plain": [
       "-355470.54619069945"
      ]
     },
     "execution_count": 16,
     "metadata": {},
     "output_type": "execute_result"
    }
   ],
   "source": [
    "h_form_CO2 = tds.get_property('CO2', 'dh_form')\n",
    "h_CO2 = CP.PropsSI('Hmolar', 'T', T, 'P', P, 'CO2')\n",
    "h_form_CO2+h_CO2"
   ]
  },
  {
   "cell_type": "markdown",
   "metadata": {
    "slideshow": {
     "slide_type": "slide"
    }
   },
   "source": [
    "## Haber process\n",
    "N2 + 3/2 H2 = NH3  \n",
    "\n",
    "Pressure = 150 to 250 bar  \n",
    "Temperature = 400 to 500 degC"
   ]
  },
  {
   "cell_type": "code",
   "execution_count": 52,
   "metadata": {},
   "outputs": [
    {
     "name": "stdout",
     "output_type": "stream",
     "text": [
      "4.0\n",
      "3.976353643835253\n",
      "20.978039243159184\n",
      "31.511569979886136 kJ/mol\n",
      "17.084786293024287 kJ/mol\n",
      "519.7139518066491 kJ/mol\n",
      "[337.9]\n",
      "Haber efficiency =  [0.45660081]\n"
     ]
    }
   ],
   "source": [
    "# assume full conversion\n",
    "ex_N2 = 9.5 # kJ/mol\n",
    "p_r = 250e5 # Pa\n",
    "T_r = 400+273.15 # K\n",
    "p_in = 1e5 # Pa\n",
    "T_in = 273.15+25 # K\n",
    "pr = 3.5\n",
    "\n",
    "eta_comp = 0.8\n",
    "\n",
    "# 100 bar, 3 stage compressor\n",
    "n = np.round(np.log(p_r/p_in)/np.log(pr))\n",
    "print(n)\n",
    "pr = np.exp(np.log(p_r/p_in)/round(n))\n",
    "print(pr)\n",
    "\n",
    "S_in = PropsSI('Smolar', 'T', T_in, 'P', p_in, 'N2')\n",
    "H_in = PropsSI('Hmolar', 'T', T_in, 'P', p_in, 'N2')\n",
    "S_out = S_in\n",
    "H_out = PropsSI('Hmolar', 'P', pr*p_in, 'Smolar', S_out, 'N2')\n",
    "comp_power_N2 = n*(H_out-H_in)/eta_comp/1000 # kJ/mol\n",
    "T_comp = PropsSI('T', 'P', pr*p_in, 'Smolar', S_out, 'N2')\n",
    "print(comp_power_N2)\n",
    "\n",
    "\n",
    "S_in = PropsSI('Smolar', 'T', T_in, 'P', p_in, 'H2')\n",
    "H_in = PropsSI('Hmolar', 'T', T_in, 'P', p_in, 'H2')\n",
    "S_out = S_in\n",
    "H_out = PropsSI('Hmolar', 'P', pr*p_in, 'Smolar', S_out, 'H2')\n",
    "comp_power_H2 = 1.5*n*(H_out-H_in)/eta_comp/1000 # kJ/mol\n",
    "print(comp_power_H2, 'kJ/mol')\n",
    "\n",
    "ex_warm = PropsSI('Hmolar', 'T', T_r, 'P', p_in, 'N2')+1.5*PropsSI('Hmolar', 'T', T_r, 'P', p_in, 'H2')- \\\n",
    "PropsSI('Hmolar', 'T', T_comp, 'P', p_in, 'N2')-1.5*PropsSI('Hmolar', 'T', T_comp, 'P', p_in, 'H2')\n",
    "ex_warm = ex_warm/1000 # kJ/mol\n",
    "print(ex_warm, 'kJ/mol')\n",
    "\n",
    "ex_haber = ex_N2+1.5*ex_H2+comp_power_N2+comp_power_H2+ex_warm\n",
    "\n",
    "print(ex_sabatier, 'kJ/mol')\n",
    "print(ex['ammonia'])\n",
    "\n",
    "print('Haber efficiency = ', ex['ammonia']/ex_haber)"
   ]
  },
  {
   "cell_type": "code",
   "execution_count": 51,
   "metadata": {},
   "outputs": [
    {
     "data": {
      "text/plain": [
       "519.7139518066491"
      ]
     },
     "execution_count": 51,
     "metadata": {},
     "output_type": "execute_result"
    }
   ],
   "source": [
    "ex_haber"
   ]
  },
  {
   "cell_type": "markdown",
   "metadata": {
    "slideshow": {
     "slide_type": "slide"
    }
   },
   "source": [
    "## Fischer-Tropsch process\n",
    "(2n + 1) H2 + n CO → CnH2n+2 + n H2O\n",
    "\n",
    "* Requires CO and H2\n",
    "* T = 150 to 300 degC\n",
    "* P = 1 to 100 bar"
   ]
  },
  {
   "cell_type": "markdown",
   "metadata": {
    "slideshow": {
     "slide_type": "slide"
    }
   },
   "source": [
    "## Methanol\n",
    "CO2 + 3 H2 → CH3OH + H2O\n",
    "\n",
    "* p = 50-100 bar\n",
    "* T = 250 degC\n",
    "\n",
    "Requires H2 and in some cases CO\n",
    "    "
   ]
  },
  {
   "cell_type": "code",
   "execution_count": 1,
   "metadata": {
    "slideshow": {
     "slide_type": "skip"
    }
   },
   "outputs": [],
   "source": []
  },
  {
   "cell_type": "markdown",
   "metadata": {
    "slideshow": {
     "slide_type": "skip"
    }
   },
   "source": [
    "See a list of components [here](http://www.coolprop.org/fluid_properties/PurePseudoPure.html#list-of-fluids)\n",
    "\n"
   ]
  },
  {
   "cell_type": "code",
   "execution_count": 2,
   "metadata": {
    "slideshow": {
     "slide_type": "slide"
    }
   },
   "outputs": [
    {
     "name": "stdout",
     "output_type": "stream",
     "text": [
      "10371.312768632817\n",
      "7926.618188636264\n"
     ]
    }
   ],
   "source": [
    "from CoolProp.CoolProp import PropsSI\n",
    "T1 = 25+273.17\n",
    "p1 = 1e5\n",
    "\n",
    "H_H2 = PropsSI(\"Hmolar\", \"P\", p1, \"T\", T1, \"H2\")\n",
    "H_O2 = PropsSI(\"Hmolar\", \"P\", p1, \"T\", T1, \"O2\")\n",
    "H_H2O = PropsSI(\"Hmolar\", \"P\", p1, \"T\", T1, \"H2O\")\n",
    "\n",
    "# Perry's chemical engineers' handbook\n",
    "# http://web.mit.edu/2.813/www/readings/APPENDIX.pdf\n",
    "\n",
    "dH_electrolysis = H_H2+1/2*H_O2 - H_H2O\n",
    "print(dH_electrolysis)\n",
    "print(H_H2)"
   ]
  },
  {
   "cell_type": "code",
   "execution_count": 7,
   "metadata": {
    "slideshow": {
     "slide_type": "slide"
    }
   },
   "outputs": [
    {
     "name": "stdout",
     "output_type": "stream",
     "text": [
      "94.67214965468065\n",
      "0.00016256103926824098\n"
     ]
    }
   ],
   "source": [
    "H1 = PropsSI(\"Hmolar\", \"P\", 1e5, \"T\", 300, \"H2\")\n",
    "H2 = PropsSI(\"Hmolar\", \"P\", 100e5, \"T\", 300, \"H2\")\n",
    "print(H2-H1)\n",
    "\n",
    "V = 1/PropsSI(\"Dmolar\", \"P\", 200e5, \"T\", 80+273.15, \"H2\")\n",
    "print(V)"
   ]
  },
  {
   "cell_type": "code",
   "execution_count": 10,
   "metadata": {
    "slideshow": {
     "slide_type": "slide"
    }
   },
   "outputs": [
    {
     "name": "stdout",
     "output_type": "stream",
     "text": [
      "0.9277802771885068\n"
     ]
    }
   ],
   "source": [
    "H2 = PropsSI(\"Hmolar\", \"P\", p1, \"T\", T1, \"NH3\")\n",
    "H2 = PropsSI(\"Hmolar\", \"P\", p1, \"T\", T1, \"CO2\")\n",
    "H2 = PropsSI(\"Hmolar\", \"P\", p1, \"T\", T1, \"N2\")\n",
    "H2 = PropsSI(\"Hmolar\", \"P\", p1, \"T\", T1, \"CH4\")\n",
    "\n",
    "Z = PropsSI(\"Z\", \"P\", 200e5, \"T\", 353.15, \"CH4\")\n",
    "print(Z)"
   ]
  },
  {
   "cell_type": "code",
   "execution_count": 11,
   "metadata": {},
   "outputs": [
    {
     "data": {
      "text/plain": [
       "2029.4862307757198"
      ]
     },
     "execution_count": 11,
     "metadata": {},
     "output_type": "execute_result"
    }
   ],
   "source": [
    "PropsSI(\"Hmolar\", \"P\", 1e5, \"T\", 300, \"H2O\")"
   ]
  }
 ],
 "metadata": {
  "@webio": {
   "lastCommId": null,
   "lastKernelId": null
  },
  "celltoolbar": "Slideshow",
  "kernelspec": {
   "display_name": "Python 3",
   "language": "python",
   "name": "python3"
  },
  "language_info": {
   "codemirror_mode": {
    "name": "ipython",
    "version": 3
   },
   "file_extension": ".py",
   "mimetype": "text/x-python",
   "name": "python",
   "nbconvert_exporter": "python",
   "pygments_lexer": "ipython3",
   "version": "3.7.6"
  },
  "toc": {
   "base_numbering": 1,
   "nav_menu": {},
   "number_sections": false,
   "sideBar": true,
   "skip_h1_title": false,
   "title_cell": "Table of Contents",
   "title_sidebar": "Contents",
   "toc_cell": false,
   "toc_position": {},
   "toc_section_display": true,
   "toc_window_display": false
  }
 },
 "nbformat": 4,
 "nbformat_minor": 4
}
