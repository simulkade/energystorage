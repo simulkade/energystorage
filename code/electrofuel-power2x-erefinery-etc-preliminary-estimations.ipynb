{
 "cells": [
  {
   "cell_type": "code",
   "execution_count": 1,
   "metadata": {},
   "outputs": [],
   "source": [
    "from CoolProp.CoolProp import PropsSI"
   ]
  },
  {
   "cell_type": "markdown",
   "metadata": {},
   "source": [
    "See a list of components [here](http://www.coolprop.org/fluid_properties/PurePseudoPure.html#list-of-fluids)\n",
    "\n"
   ]
  },
  {
   "cell_type": "markdown",
   "metadata": {},
   "source": [
    "## Electrolysis\n",
    "H2O + energy = H2 + 1/2 O2  \n",
    "For the efficiency of electrolysis process, see [here](https://en.wikipedia.org/wiki/Electrolysis_of_water#Efficiency)\n",
    "* Alkaline technology: ~ 70%\n",
    "* Proton Exchange Membranes (PEM): ~ 80% (and apparently increasing)"
   ]
  },
  {
   "cell_type": "markdown",
   "metadata": {},
   "source": [
    "## CO2 recycling\n",
    "CO2 + 4 H2 = CH4 + 2 H2O  \n",
    "At 400 degC  \n",
    "High pressure (assume 100 bar)"
   ]
  },
  {
   "cell_type": "markdown",
   "metadata": {},
   "source": [
    "## Haber process\n",
    "N2 + H2 = NH3  \n",
    "\n",
    "Pressure = 150 to 250 bar  \n",
    "Temperature = 400 to 500 degC"
   ]
  },
  {
   "cell_type": "markdown",
   "metadata": {},
   "source": [
    "## Fischer-Tropsch process\n",
    "(2n + 1) H2 + n CO → CnH2n+2 + n H2O\n",
    "\n",
    "* Requires CO and H2\n",
    "* T = 150 to 300 degC\n",
    "* P = 1 to 100 bar"
   ]
  },
  {
   "cell_type": "markdown",
   "metadata": {},
   "source": [
    "## Methanol\n",
    "CO2 + 3 H2 → CH3OH + H2O\n",
    "\n",
    "* p = 50-100 bar\n",
    "* T = 250 degC\n",
    "\n",
    "Requires H2 and in some cases CO\n",
    "    "
   ]
  },
  {
   "cell_type": "code",
   "execution_count": 5,
   "metadata": {},
   "outputs": [],
   "source": [
    "T1 = 25+273.17\n",
    "p1 = 1e5\n",
    "\n",
    "p2 = 200e5\n",
    "T2 = 300.0+273.15\n",
    "\n",
    "H2 = PropsSI(\"Hmolar\", \"P\", p1, \"T\", T1, \"H2\")\n",
    "\n",
    "G2 = PropsSI(\"Gmolar\", \"P\", p, \"T\", T, \"H2\")"
   ]
  },
  {
   "cell_type": "code",
   "execution_count": 9,
   "metadata": {},
   "outputs": [],
   "source": [
    "H2 = PropsSI(\"Hmolar\", \"P\", p1, \"T\", T1, \"NH3\")\n",
    "H2 = PropsSI(\"Hmolar\", \"P\", p1, \"T\", T1, \"CO2\")\n",
    "H2 = PropsSI(\"Hmolar\", \"P\", p1, \"T\", T1, \"N2\")\n",
    "H2 = PropsSI(\"Hmolar\", \"P\", p1, \"T\", T1, \"CH4\")\n",
    "\n"
   ]
  }
 ],
 "metadata": {
  "kernelspec": {
   "display_name": "Python 3",
   "language": "python",
   "name": "python3"
  },
  "language_info": {
   "codemirror_mode": {
    "name": "ipython",
    "version": 3
   },
   "file_extension": ".py",
   "mimetype": "text/x-python",
   "name": "python",
   "nbconvert_exporter": "python",
   "pygments_lexer": "ipython3",
   "version": "3.7.3"
  },
  "toc": {
   "base_numbering": 1,
   "nav_menu": {},
   "number_sections": true,
   "sideBar": true,
   "skip_h1_title": false,
   "title_cell": "Table of Contents",
   "title_sidebar": "Contents",
   "toc_cell": false,
   "toc_position": {},
   "toc_section_display": true,
   "toc_window_display": false
  }
 },
 "nbformat": 4,
 "nbformat_minor": 4
}
