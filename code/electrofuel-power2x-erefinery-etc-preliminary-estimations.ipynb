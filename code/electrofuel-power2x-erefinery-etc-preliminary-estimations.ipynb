{
 "cells": [
  {
   "cell_type": "code",
   "execution_count": 1,
   "metadata": {
    "slideshow": {
     "slide_type": "skip"
    }
   },
   "outputs": [],
   "source": [
    "from graphviz import Digraph\n",
    "import thermo.chemical as chem"
   ]
  },
  {
   "cell_type": "markdown",
   "metadata": {
    "slideshow": {
     "slide_type": "slide"
    }
   },
   "source": [
    "## Electrolysis\n",
    "H2O + energy = H2 + 1/2 O2  \n",
    "For the efficiency of electrolysis process, see [here](https://en.wikipedia.org/wiki/Electrolysis_of_water#Efficiency)\n",
    "* Alkaline technology: ~ 70%\n",
    "* Proton Exchange Membranes (PEM): ~ 80% (and apparently increasing)"
   ]
  },
  {
   "cell_type": "markdown",
   "metadata": {
    "slideshow": {
     "slide_type": "slide"
    }
   },
   "source": [
    "## CO2 recycling\n",
    "Sabatier reaction:  \n",
    "CO2 + 4 H2 = CH4 + 2 H2O  \n",
    "At 400 degC  \n",
    "High pressure (assume 100 bar)  "
   ]
  },
  {
   "cell_type": "markdown",
   "metadata": {
    "slideshow": {
     "slide_type": "slide"
    }
   },
   "source": [
    "Energy requirement:\n",
    "* CO2 production or extraction\n",
    "    - extraction from the air\n",
    "    - biomass\n",
    "    - Fossil-fuel based\n",
    "* H2 production\n",
    "* Compression and heat"
   ]
  },
  {
   "cell_type": "code",
   "execution_count": 2,
   "metadata": {
    "slideshow": {
     "slide_type": "skip"
    }
   },
   "outputs": [
    {
     "data": {
      "text/plain": [
       "'fsm.gv.svg'"
      ]
     },
     "execution_count": 2,
     "metadata": {},
     "output_type": "execute_result"
    }
   ],
   "source": [
    "f = Digraph('Process flow diagram', format='svg', filename='fsm.gv')\n",
    "f.attr(rankdir='LR', size='6,4')\n",
    "\n",
    "f.attr('node', shape = 'none')\n",
    "f.node('N2', label = 'Nitrogen')\n",
    "f.node('H2', label = 'Hydrogen')\n",
    "f.node('NH3')\n",
    "\n",
    "f.attr('node', shape='rectangle')\n",
    "f.node('HP', label='Haber Process')\n",
    "\n",
    "f.edge('N2', 'HP', label='N2')\n",
    "f.edge('H2', 'HP', label='H2')\n",
    "f.edge('HP', 'NH3', label='Ammonia')\n",
    "\n",
    "f.render()"
   ]
  },
  {
   "cell_type": "markdown",
   "metadata": {
    "slideshow": {
     "slide_type": "slide"
    }
   },
   "source": [
    "## Process flow diagram\n",
    "![pfd](./fsm.gv.svg)"
   ]
  },
  {
   "cell_type": "code",
   "execution_count": 18,
   "metadata": {
    "slideshow": {
     "slide_type": "skip"
    }
   },
   "outputs": [],
   "source": [
    "T = 400+273.15 # K\n",
    "P = 100e5 # Pa\n",
    "CO2 = chem.Chemical('CO2', T=T, P=P)\n",
    "H2 = chem.Chemical('H2')\n",
    "CH4 = chem.Chemical('CH4')\n",
    "H2O = chem.Chemical('H2O')"
   ]
  },
  {
   "cell_type": "code",
   "execution_count": 21,
   "metadata": {
    "slideshow": {
     "slide_type": "skip"
    }
   },
   "outputs": [
    {
     "data": {
      "text/plain": [
       "15717.689048763968"
      ]
     },
     "execution_count": 21,
     "metadata": {},
     "output_type": "execute_result"
    }
   ],
   "source": [
    "CO2.set_thermo()\n",
    "CO2.Hm"
   ]
  },
  {
   "cell_type": "code",
   "execution_count": 20,
   "metadata": {
    "slideshow": {
     "slide_type": "skip"
    }
   },
   "outputs": [
    {
     "data": {
      "text/plain": [
       "-377099.3215780015"
      ]
     },
     "execution_count": 20,
     "metadata": {},
     "output_type": "execute_result"
    }
   ],
   "source": [
    "CO2.Hf+CO2.calc_H(T=T, P=P)\n"
   ]
  },
  {
   "cell_type": "markdown",
   "metadata": {
    "slideshow": {
     "slide_type": "slide"
    }
   },
   "source": [
    "## Haber process\n",
    "N2 + H2 = NH3  \n",
    "\n",
    "Pressure = 150 to 250 bar  \n",
    "Temperature = 400 to 500 degC"
   ]
  },
  {
   "cell_type": "markdown",
   "metadata": {
    "slideshow": {
     "slide_type": "slide"
    }
   },
   "source": [
    "## Fischer-Tropsch process\n",
    "(2n + 1) H2 + n CO → CnH2n+2 + n H2O\n",
    "\n",
    "* Requires CO and H2\n",
    "* T = 150 to 300 degC\n",
    "* P = 1 to 100 bar"
   ]
  },
  {
   "cell_type": "markdown",
   "metadata": {
    "slideshow": {
     "slide_type": "slide"
    }
   },
   "source": [
    "## Methanol\n",
    "CO2 + 3 H2 → CH3OH + H2O\n",
    "\n",
    "* p = 50-100 bar\n",
    "* T = 250 degC\n",
    "\n",
    "Requires H2 and in some cases CO\n",
    "    "
   ]
  },
  {
   "cell_type": "code",
   "execution_count": 1,
   "metadata": {
    "slideshow": {
     "slide_type": "skip"
    }
   },
   "outputs": [],
   "source": [
    "from CoolProp.CoolProp import PropsSI"
   ]
  },
  {
   "cell_type": "markdown",
   "metadata": {
    "slideshow": {
     "slide_type": "skip"
    }
   },
   "source": [
    "See a list of components [here](http://www.coolprop.org/fluid_properties/PurePseudoPure.html#list-of-fluids)\n",
    "\n"
   ]
  },
  {
   "cell_type": "code",
   "execution_count": 2,
   "metadata": {
    "slideshow": {
     "slide_type": "slide"
    }
   },
   "outputs": [
    {
     "name": "stdout",
     "output_type": "stream",
     "text": [
      "10371.312768632817\n",
      "7926.618188636264\n"
     ]
    }
   ],
   "source": [
    "from CoolProp.CoolProp import PropsSI\n",
    "T1 = 25+273.17\n",
    "p1 = 1e5\n",
    "\n",
    "H_H2 = PropsSI(\"Hmolar\", \"P\", p1, \"T\", T1, \"H2\")\n",
    "H_O2 = PropsSI(\"Hmolar\", \"P\", p1, \"T\", T1, \"O2\")\n",
    "H_H2O = PropsSI(\"Hmolar\", \"P\", p1, \"T\", T1, \"H2O\")\n",
    "\n",
    "# Perry's chemical engineers' handbook\n",
    "# http://web.mit.edu/2.813/www/readings/APPENDIX.pdf\n",
    "\n",
    "dH_electrolysis = H_H2+1/2*H_O2 - H_H2O\n",
    "print(dH_electrolysis)\n",
    "print(H_H2)"
   ]
  },
  {
   "cell_type": "code",
   "execution_count": 7,
   "metadata": {
    "slideshow": {
     "slide_type": "slide"
    }
   },
   "outputs": [
    {
     "name": "stdout",
     "output_type": "stream",
     "text": [
      "94.67214965468065\n",
      "0.00016256103926824098\n"
     ]
    }
   ],
   "source": [
    "H1 = PropsSI(\"Hmolar\", \"P\", 1e5, \"T\", 300, \"H2\")\n",
    "H2 = PropsSI(\"Hmolar\", \"P\", 100e5, \"T\", 300, \"H2\")\n",
    "print(H2-H1)\n",
    "\n",
    "V = 1/PropsSI(\"Dmolar\", \"P\", 200e5, \"T\", 80+273.15, \"H2\")\n",
    "print(V)"
   ]
  },
  {
   "cell_type": "code",
   "execution_count": 10,
   "metadata": {
    "slideshow": {
     "slide_type": "slide"
    }
   },
   "outputs": [
    {
     "name": "stdout",
     "output_type": "stream",
     "text": [
      "0.9277802771885068\n"
     ]
    }
   ],
   "source": [
    "H2 = PropsSI(\"Hmolar\", \"P\", p1, \"T\", T1, \"NH3\")\n",
    "H2 = PropsSI(\"Hmolar\", \"P\", p1, \"T\", T1, \"CO2\")\n",
    "H2 = PropsSI(\"Hmolar\", \"P\", p1, \"T\", T1, \"N2\")\n",
    "H2 = PropsSI(\"Hmolar\", \"P\", p1, \"T\", T1, \"CH4\")\n",
    "\n",
    "Z = PropsSI(\"Z\", \"P\", 200e5, \"T\", 353.15, \"CH4\")\n",
    "print(Z)"
   ]
  },
  {
   "cell_type": "code",
   "execution_count": 11,
   "metadata": {},
   "outputs": [
    {
     "data": {
      "text/plain": [
       "2029.4862307757198"
      ]
     },
     "execution_count": 11,
     "metadata": {},
     "output_type": "execute_result"
    }
   ],
   "source": [
    "PropsSI(\"Hmolar\", \"P\", 1e5, \"T\", 300, \"H2O\")"
   ]
  }
 ],
 "metadata": {
  "celltoolbar": "Slideshow",
  "kernelspec": {
   "display_name": "Python 3",
   "language": "python",
   "name": "python3"
  },
  "language_info": {
   "codemirror_mode": {
    "name": "ipython",
    "version": 3
   },
   "file_extension": ".py",
   "mimetype": "text/x-python",
   "name": "python",
   "nbconvert_exporter": "python",
   "pygments_lexer": "ipython3",
   "version": "3.7.3"
  },
  "toc": {
   "base_numbering": 1,
   "nav_menu": {},
   "number_sections": false,
   "sideBar": true,
   "skip_h1_title": false,
   "title_cell": "Table of Contents",
   "title_sidebar": "Contents",
   "toc_cell": false,
   "toc_position": {},
   "toc_section_display": true,
   "toc_window_display": false
  }
 },
 "nbformat": 4,
 "nbformat_minor": 4
}
