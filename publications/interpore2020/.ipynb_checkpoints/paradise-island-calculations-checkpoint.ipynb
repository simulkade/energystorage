{
 "cells": [
  {
   "cell_type": "markdown",
   "metadata": {},
   "source": [
    "# What I promised in my abstract\n",
    "The main value of this concept is that by changing the population and surface area of the island and several initial conditions including the energy infrastructures such as power plants, coal mines, oil and gas fields, and import and export of energy the island can be converted to a real country or continent. In this work, two countries of Denmark and Poland are investigated. Among the many alternatives that are studied, the results of **fully switching from coal to natural gas or partially switching to windmills**, and **transport and storage of Polish powerplant CO2 to the Northern Lights project in Norway** are presented. For Denmark, **a switch from natural gas to biogas or synthetic fuel storage** in the subsurface and **the storage of summer heat in the shallow subsurface** are studied and their advantages and disadvantages are presented."
   ]
  },
  {
   "cell_type": "markdown",
   "metadata": {},
   "source": [
    "# Part I: Poland\n",
    "For poland, I will study the following scenarios:  \n",
    "  1. Switch from coal to natural gas\n",
    "  2. Partially switching from coal to windmills\n",
    "  3. Staying with coal with CCS in the Northern lights project"
   ]
  },
  {
   "cell_type": "markdown",
   "metadata": {},
   "source": [
    "## Switching from coal to natural gas"
   ]
  },
  {
   "cell_type": "code",
   "execution_count": null,
   "metadata": {},
   "outputs": [],
   "source": []
  },
  {
   "cell_type": "markdown",
   "metadata": {},
   "source": [
    "## Partially switching from coal to windmills"
   ]
  },
  {
   "cell_type": "code",
   "execution_count": null,
   "metadata": {},
   "outputs": [],
   "source": []
  },
  {
   "cell_type": "markdown",
   "metadata": {},
   "source": [
    "## Coal power plants with CCS"
   ]
  },
  {
   "cell_type": "code",
   "execution_count": null,
   "metadata": {},
   "outputs": [],
   "source": []
  },
  {
   "cell_type": "markdown",
   "metadata": {},
   "source": [
    "# Part II: Denmark"
   ]
  },
  {
   "cell_type": "markdown",
   "metadata": {},
   "source": [
    "# Natural gas to synthetic fuels"
   ]
  },
  {
   "cell_type": "code",
   "execution_count": null,
   "metadata": {},
   "outputs": [],
   "source": []
  },
  {
   "cell_type": "markdown",
   "metadata": {},
   "source": []
  }
 ],
 "metadata": {
  "kernelspec": {
   "display_name": "Python 3",
   "language": "python",
   "name": "python3"
  },
  "language_info": {
   "codemirror_mode": {
    "name": "ipython",
    "version": 3
   },
   "file_extension": ".py",
   "mimetype": "text/x-python",
   "name": "python",
   "nbconvert_exporter": "python",
   "pygments_lexer": "ipython3",
   "version": "3.7.8"
  }
 },
 "nbformat": 4,
 "nbformat_minor": 4
}
