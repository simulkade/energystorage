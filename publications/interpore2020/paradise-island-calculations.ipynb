{
 "cells": [
  {
   "cell_type": "markdown",
   "metadata": {},
   "source": [
    "# What I promised in my abstract\n",
    "The main value of this concept is that by changing the population and surface area of the island and several initial conditions including the energy infrastructures such as power plants, coal mines, oil and gas fields, and import and export of energy the island can be converted to a real country or continent. In this work, two countries of Denmark and Poland are investigated. Among the many alternatives that are studied, the results of **fully switching from coal to natural gas or partially switching to windmills**, and **transport and storage of Polish powerplant CO2 to the Northern Lights project in Norway** are presented. For Denmark, **a switch from natural gas to biogas or synthetic fuel storage** in the subsurface and **the storage of summer heat in the shallow subsurface** are studied and their advantages and disadvantages are presented."
   ]
  },
  {
   "cell_type": "code",
   "execution_count": 3,
   "metadata": {},
   "outputs": [
    {
     "data": {
      "text/plain": [
       "1"
      ]
     },
     "execution_count": 3,
     "metadata": {},
     "output_type": "execute_result"
    }
   ],
   "source": [
    "min(1,2)"
   ]
  },
  {
   "cell_type": "code",
   "execution_count": 2,
   "metadata": {},
   "outputs": [],
   "source": [
    "# define the compressor function\n",
    "from CoolProp.CoolProp import PropsSI\n",
    "P1 = 1e5 # Pa\n",
    "T1 = 25+273.15 # K\n",
    "comp_ratio = 4.\n",
    "\n",
    "def comp_w(p1, T1, p2, comp_ratio=4.0):\n",
    "    p_in = p1\n",
    "    p_out = p_in\n",
    "    w = 0\n",
    "    while p_out<p2:\n",
    "        p_out = min(p_in*comp_ratio, p2)\n",
    "        S_in = PropsSI('Smass', 'P', p_in, 'T', T1, 'CO2') # J/(kg.K)\n",
    "        T2 = PropsSI('T', 'Smass', S_in, 'P', p_out, 'CO2') # K\n",
    "        S2 = PropsSI('Smass', 'P', p_out, 'T', T2, 'CO2') # J/(kg.K)\n",
    "        H1 = PropsSI('Hmass', 'P', p_in, 'T', T1, 'CO2') # J/(kg)\n",
    "        H2 = PropsSI('Hmass', 'P', p_out, 'T', T2, 'CO2') # J/(kg)\n",
    "        w_min = H2-H1\n",
    "        w = w+w_min\n",
    "        p_in = p_out\n",
    "    return w"
   ]
  },
  {
   "cell_type": "markdown",
   "metadata": {},
   "source": [
    "# Part I: Poland\n",
    "For poland, I will study the following scenarios:  \n",
    "  1. Switch from coal to natural gas\n",
    "  2. Partially switching from coal to windmills\n",
    "  3. Staying with coal with CCS in the Northern lights project  \n",
    "  \n",
    "Poland is a European country with 312,679 km2 of land and a population of 37.97 million.  Poland consumes a large amount of coal for electricity production. World bank report 143,740 km2 of agricultural land and 108,060 km2 of arable land for the country."
   ]
  },
  {
   "cell_type": "code",
   "execution_count": 2,
   "metadata": {},
   "outputs": [
    {
     "name": "stdout",
     "output_type": "stream",
     "text": [
      "area per person = \n",
      "3785.620226494601\n"
     ]
    }
   ],
   "source": [
    "poland_pop = 37.97e6 # population\n",
    "poland_area = 143740e6 # sq meter area\n",
    "area_per_person = poland_area/poland_pop\n",
    "print(\"area per person = \")\n",
    "print(area_per_person)"
   ]
  },
  {
   "cell_type": "markdown",
   "metadata": {},
   "source": [
    "## Switching from coal to natural gas"
   ]
  },
  {
   "cell_type": "markdown",
   "metadata": {},
   "source": [
    "The efficiency of coal power plants is rather low, even lower than the reported values since a power plant seldom operates at its design condition. The average efficiency of Polish power plants was 34% in 2013 and the new power plants (2020) are 42-45% efficient.\n",
    "There are several CO2 transport pipelines in different countries with diameters between 20 cm to 76 cm, and length of 2 to 800 km. The capacities are between 1-27 Mt/y.\n",
    "a pressure drop of 25 to 100 bar per 100 km of pipeline seems to give an economical value for the pipe diameter (1 bar/km is commonly used in the process pipe design).  \n",
    "From another paper, the designed pressure drop per unit length of the pipe is around 0.1 to 0.2 bar/km for liquid CO2 and 0.1 to 0.15 bar/km for gaseous CO2."
   ]
  },
  {
   "cell_type": "markdown",
   "metadata": {},
   "source": [
    "## Partially switching from coal to windmills"
   ]
  },
  {
   "cell_type": "code",
   "execution_count": null,
   "metadata": {},
   "outputs": [],
   "source": []
  },
  {
   "cell_type": "markdown",
   "metadata": {},
   "source": [
    "## Coal power plants with CCS\n",
    "It is possible to reduce the CO2 emission of the coal power plants by capturing and storing the CO2 in the subsurface. One promising place is the Northern Light project in Norway. I choose a 2500 MW coal power plant, capture its CO2 in amine absorption, and transfer the CO2 via a pipeline to the Northern Light project."
   ]
  },
  {
   "cell_type": "code",
   "execution_count": 13,
   "metadata": {},
   "outputs": [
    {
     "name": "stdout",
     "output_type": "stream",
     "text": [
      "298695.6401770066\n",
      "584.3449836344736\n",
      "620.114377024389\n",
      "3961.55294117647\n",
      "extra coal requirement is equal to 26.400000000000002\n",
      "wasted electricity on CCS is equal to 23.607592329652345\n",
      "CO2 emission per MJ is  0.2588235294117647 kg/MJ electricity\n",
      "CO2 emission of 40% coal + 60% wind power plants is equal to  0.10352941176470587 kg/MJ electricity\n",
      "CO2 emission of methane power plant =  0.09166666666666667 kg/MJ electricity\n"
     ]
    }
   ],
   "source": [
    "pipe_dp = 0.1 # bar/km\n",
    "L_pipe = 1900 # km\n",
    "p_inj = 300 # bar for injection at 3000 m\n",
    "capture = 3 # MJ/kg\n",
    "eta_pp = 0.34\n",
    "pp = 5102 # MW\n",
    "CO2_emission_lignite = 44/0.500 # 88 g/MJ\n",
    "\n",
    "CO2_emission_CH4 = 44/0.800 # 55 g/MJ\n",
    "\n",
    "lignite_consumption = pp/eta_pp # MW lignite\n",
    "CO2_pp = lignite_consumption*CO2_emission_lignite/1000 # kg/s\n",
    "capture_heat = capture*CO2_pp\n",
    "w_transport = comp_w(1e5, 273.15+25, pipe_dp*L_pipe*1e5)\n",
    "print(w_transport) # J/kg\n",
    "w_tot_transport = w_transport*CO2_pp/(0.9*0.75)/1e6 # MW\n",
    "print(w_tot_transport)\n",
    "w_inj = comp_w(1e5, 273.15+25, p_inj*1e5)\n",
    "w_tot_inj = w_inj*CO2_pp/(0.9*0.75)/1e6 # MW\n",
    "print(w_tot_inj)\n",
    "\n",
    "heat_ccs = CO2_pp*capture # MW\n",
    "print(heat_ccs)\n",
    "\n",
    "print(\"extra coal requirement is equal to\", (heat_ccs/lignite_consumption*100))\n",
    "print(\"wasted electricity on CCS is equal to\", (w_tot_transport+w_tot_inj)/pp*100)\n",
    "\n",
    "coal_pp_emission = CO2_pp/pp # kg/MJ\n",
    "print(\"CO2 emission per MJ is \", coal_pp_emission, \"kg/MJ electricity\")\n",
    "\n",
    "# case 1: \n",
    "# 40% electricity from coal, the rest renewables\n",
    "coal_frac = 0.4\n",
    "print(\"CO2 emission of 40% coal + 60% wind power plants is equal to \", 0.4*coal_pp_emission, \"kg/MJ electricity\")\n",
    "\n",
    "# case 2:\n",
    "# full natural gas\n",
    "eta_ch4 = 0.6\n",
    "methane_pp_emission = 1/eta_ch4*CO2_emission_CH4/1000 # kg/MJ\n",
    "print(\"CO2 emission of methane power plant = \", methane_pp_emission, \"kg/MJ electricity\")"
   ]
  },
  {
   "cell_type": "code",
   "execution_count": 24,
   "metadata": {},
   "outputs": [
    {
     "data": {
      "image/png": "[encoded data removed]",
      "text/plain": [
       "<Figure size 432x288 with 1 Axes>"
      ]
     },
     "metadata": {
      "needs_background": "light"
     },
     "output_type": "display_data"
    }
   ],
   "source": [
    "import matplotlib.pyplot as plt\n",
    "fig = plt.bar([\"Coal\", \"Natural gas\", \"40% coal + 60% wind\"],  [coal_pp_emission, methane_pp_emission, 0.4*coal_pp_emission])\n",
    "plt.ylabel(\"kg CO$_2$/MJ electricity\", fontsize = 12)\n",
    "plt.savefig(\"pp_co2_emission.svg\")"
   ]
  },
  {
   "cell_type": "markdown",
   "metadata": {},
   "source": [
    "# Part II: Denmark\n",
    "The following topics are covered in my previous paper so it is better to talk about the geothermal energy in the Netherlands that is more relevant."
   ]
  },
  {
   "cell_type": "markdown",
   "metadata": {},
   "source": [
    "## Switching from natural gas to biogas"
   ]
  },
  {
   "cell_type": "markdown",
   "metadata": {},
   "source": [
    "## Switching from oil to synthetic fuels"
   ]
  },
  {
   "cell_type": "markdown",
   "metadata": {},
   "source": [
    "## Storage of summer heat in the shallow subsurface"
   ]
  },
  {
   "cell_type": "markdown",
   "metadata": {},
   "source": []
  }
 ],
 "metadata": {
  "kernelspec": {
   "display_name": "Python 3",
   "language": "python",
   "name": "python3"
  },
  "language_info": {
   "codemirror_mode": {
    "name": "ipython",
    "version": 3
   },
   "file_extension": ".py",
   "mimetype": "text/x-python",
   "name": "python",
   "nbconvert_exporter": "python",
   "pygments_lexer": "ipython3",
   "version": "3.7.8"
  }
 },
 "nbformat": 4,
 "nbformat_minor": 4
}
