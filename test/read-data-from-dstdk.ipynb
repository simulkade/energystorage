{
 "cells": [
  {
   "cell_type": "markdown",
   "metadata": {},
   "source": [
    "# Using dst.dk API\n",
    "I'm trying to get some data from the dst.dk website by using their API. I'm really a newbe here so everything is trial and error. My main tool is the python package [Requests](https://2.python-requests.org/en/master/user/quickstart/). The API of Denamrk Databank is briefly explained [here](https://www.dst.dk/en/Statistik/statistikbanken/api).  \n",
    "There are several things that can be retrieved from the databank. Here I'm mostly interested in the tables. But for that, first I need to choose the [subjects](https://api.statbank.dk/console#subjects)."
   ]
  },
  {
   "cell_type": "code",
   "execution_count": 1,
   "metadata": {},
   "outputs": [],
   "source": [
    "import requests"
   ]
  },
  {
   "cell_type": "code",
   "execution_count": 3,
   "metadata": {},
   "outputs": [],
   "source": [
    "param = {'lang': 'en', 'recursive': 'true'}\n",
    "\n",
    "r = requests.get(\"https://api.statbank.dk/v1/subjects\", params = param)"
   ]
  },
  {
   "cell_type": "code",
   "execution_count": 6,
   "metadata": {},
   "outputs": [],
   "source": [
    "res = r.text;"
   ]
  },
  {
   "cell_type": "markdown",
   "metadata": {},
   "source": [
    "# Convert the output to JSON\n",
    "The following method returns the queried items in JSON format:"
   ]
  },
  {
   "cell_type": "code",
   "execution_count": 24,
   "metadata": {},
   "outputs": [],
   "source": [
    "res_json = r.json()"
   ]
  },
  {
   "cell_type": "markdown",
   "metadata": {},
   "source": [
    "`len` returns the length of a JSON array or item."
   ]
  },
  {
   "cell_type": "code",
   "execution_count": 51,
   "metadata": {},
   "outputs": [
    {
     "name": "stdout",
     "output_type": "stream",
     "text": [
      "Population and elections\n",
      "Living conditions\n",
      "Education and knowledge\n",
      "Culture and National Church\n",
      "Labour, income and wealth\n",
      "Prices and consumption\n",
      "National accounts and government finances\n",
      "Money and credit market\n",
      "External economy\n",
      "Business sector in general\n",
      "Business sectors\n",
      "Geography, environment and energy\n",
      "Other\n"
     ]
    }
   ],
   "source": [
    "for i in range(len(res_json)):\n",
    "    print(res_json[i]['description'])"
   ]
  },
  {
   "cell_type": "code",
   "execution_count": 50,
   "metadata": {},
   "outputs": [
    {
     "data": {
      "text/plain": [
       "{'id': '02',\n",
       " 'description': 'Population and elections',\n",
       " 'active': True,\n",
       " 'hasSubjects': True,\n",
       " 'subjects': [{'id': '2401',\n",
       "   'description': 'Population and population projections',\n",
       "   'active': True,\n",
       "   'hasSubjects': True,\n",
       "   'subjects': [{'id': '10021',\n",
       "     'description': 'Population in Denmark',\n",
       "     'active': True,\n",
       "     'hasSubjects': False,\n",
       "     'subjects': []},\n",
       "    {'id': '10022',\n",
       "     'description': 'Population projections',\n",
       "     'active': True,\n",
       "     'hasSubjects': False,\n",
       "     'subjects': []}]},\n",
       "  {'id': '2402',\n",
       "   'description': 'Immigrants and their descendants',\n",
       "   'active': True,\n",
       "   'hasSubjects': True,\n",
       "   'subjects': [{'id': '10024',\n",
       "     'description': 'Immigrants and their descendants',\n",
       "     'active': True,\n",
       "     'hasSubjects': False,\n",
       "     'subjects': []},\n",
       "    {'id': '10025',\n",
       "     'description': 'Change to Danish citizenship',\n",
       "     'active': True,\n",
       "     'hasSubjects': False,\n",
       "     'subjects': []},\n",
       "    {'id': '10026',\n",
       "     'description': 'Asylum applications and residence permits',\n",
       "     'active': True,\n",
       "     'hasSubjects': False,\n",
       "     'subjects': []}]},\n",
       "  {'id': '2405',\n",
       "   'description': 'Births',\n",
       "   'active': True,\n",
       "   'hasSubjects': True,\n",
       "   'subjects': [{'id': '10017',\n",
       "     'description': 'Births',\n",
       "     'active': True,\n",
       "     'hasSubjects': False,\n",
       "     'subjects': []},\n",
       "    {'id': '10018',\n",
       "     'description': 'Fertility',\n",
       "     'active': True,\n",
       "     'hasSubjects': False,\n",
       "     'subjects': []},\n",
       "    {'id': '10019',\n",
       "     'description': 'Adoptions',\n",
       "     'active': True,\n",
       "     'hasSubjects': False,\n",
       "     'subjects': []}]},\n",
       "  {'id': '2406',\n",
       "   'description': 'Deaths and life expectancy',\n",
       "   'active': True,\n",
       "   'hasSubjects': True,\n",
       "   'subjects': [{'id': '10014',\n",
       "     'description': 'Deaths',\n",
       "     'active': True,\n",
       "     'hasSubjects': False,\n",
       "     'subjects': []},\n",
       "    {'id': '10015',\n",
       "     'description': 'Life expectancy',\n",
       "     'active': True,\n",
       "     'hasSubjects': False,\n",
       "     'subjects': []}]},\n",
       "  {'id': '2407',\n",
       "   'description': 'Households, families and children',\n",
       "   'active': True,\n",
       "   'hasSubjects': True,\n",
       "   'subjects': [{'id': '10010',\n",
       "     'description': 'Households',\n",
       "     'active': True,\n",
       "     'hasSubjects': False,\n",
       "     'subjects': []},\n",
       "    {'id': '10011',\n",
       "     'description': 'Families',\n",
       "     'active': True,\n",
       "     'hasSubjects': False,\n",
       "     'subjects': []},\n",
       "    {'id': '10012',\n",
       "     'description': 'Children',\n",
       "     'active': True,\n",
       "     'hasSubjects': False,\n",
       "     'subjects': []}]},\n",
       "  {'id': '2408',\n",
       "   'description': 'Marriages and divorces',\n",
       "   'active': True,\n",
       "   'hasSubjects': True,\n",
       "   'subjects': [{'id': '10001',\n",
       "     'description': 'Marriages',\n",
       "     'active': True,\n",
       "     'hasSubjects': False,\n",
       "     'subjects': []},\n",
       "    {'id': '10002',\n",
       "     'description': 'Divorces',\n",
       "     'active': True,\n",
       "     'hasSubjects': False,\n",
       "     'subjects': []}]},\n",
       "  {'id': '2410',\n",
       "   'description': 'Migrations',\n",
       "   'active': True,\n",
       "   'hasSubjects': True,\n",
       "   'subjects': [{'id': '10003',\n",
       "     'description': 'Internal migrations in Denmark',\n",
       "     'active': True,\n",
       "     'hasSubjects': False,\n",
       "     'subjects': []},\n",
       "    {'id': '10004',\n",
       "     'description': 'Migrations to and from Denmark',\n",
       "     'active': True,\n",
       "     'hasSubjects': False,\n",
       "     'subjects': []}]},\n",
       "  {'id': '2409',\n",
       "   'description': 'Names',\n",
       "   'active': True,\n",
       "   'hasSubjects': True,\n",
       "   'subjects': [{'id': '10333',\n",
       "     'description': 'Names of newborn children',\n",
       "     'active': True,\n",
       "     'hasSubjects': False,\n",
       "     'subjects': []},\n",
       "    {'id': '10334',\n",
       "     'description': 'Names in the entire population',\n",
       "     'active': True,\n",
       "     'hasSubjects': False,\n",
       "     'subjects': []}]},\n",
       "  {'id': '2411',\n",
       "   'description': 'Elections',\n",
       "   'active': True,\n",
       "   'hasSubjects': True,\n",
       "   'subjects': [{'id': '10005',\n",
       "     'description': 'Elections to the Folketing',\n",
       "     'active': True,\n",
       "     'hasSubjects': False,\n",
       "     'subjects': []},\n",
       "    {'id': '10006',\n",
       "     'description': 'Elections to municipality councils',\n",
       "     'active': True,\n",
       "     'hasSubjects': False,\n",
       "     'subjects': []},\n",
       "    {'id': '10007',\n",
       "     'description': 'Elections to the European Parliament',\n",
       "     'active': True,\n",
       "     'hasSubjects': False,\n",
       "     'subjects': []},\n",
       "    {'id': '10008',\n",
       "     'description': 'Referendums',\n",
       "     'active': True,\n",
       "     'hasSubjects': False,\n",
       "     'subjects': []}]}]}"
      ]
     },
     "execution_count": 50,
     "metadata": {},
     "output_type": "execute_result"
    }
   ],
   "source": [
    "res_json[0]"
   ]
  },
  {
   "cell_type": "markdown",
   "metadata": {},
   "source": [
    "# Get the data\n",
    "The data can be obtained by calling the [data](https://api.statbank.dk/console#data) function. For that, the table id needs to be provided and the data can be obtained in different formats.  \n",
    "For example, the data from Table `FOLK1C` can be obtained by:"
   ]
  },
  {
   "cell_type": "code",
   "execution_count": 52,
   "metadata": {},
   "outputs": [],
   "source": [
    "r = requests.get('https://api.statbank.dk/v1/data/FOLK1A/CSV?lang=en&valuePresentation=Value&timeOrder=Ascending&allowVariablesInHead=true')"
   ]
  },
  {
   "cell_type": "code",
   "execution_count": 56,
   "metadata": {},
   "outputs": [],
   "source": [
    "decoded_r = r.content.decode('utf-8')"
   ]
  },
  {
   "cell_type": "code",
   "execution_count": 64,
   "metadata": {},
   "outputs": [],
   "source": [
    "import csv\n",
    "import pandas as pd"
   ]
  },
  {
   "cell_type": "code",
   "execution_count": 58,
   "metadata": {},
   "outputs": [],
   "source": [
    "cr = csv.reader(decoded_r.splitlines(), delimiter=',')"
   ]
  },
  {
   "cell_type": "code",
   "execution_count": 60,
   "metadata": {},
   "outputs": [],
   "source": [
    "my_list = list(cr)"
   ]
  },
  {
   "cell_type": "code",
   "execution_count": 62,
   "metadata": {},
   "outputs": [
    {
     "name": "stdout",
     "output_type": "stream",
     "text": [
      "['\\ufeffTID;INDHOLD']\n",
      "['2019Q4;5827463']\n"
     ]
    }
   ],
   "source": [
    "for row in my_list:\n",
    "        print(row)"
   ]
  },
  {
   "cell_type": "markdown",
   "metadata": {},
   "source": [
    "Pandas can also be used to directly read the CSV files from the specified url."
   ]
  },
  {
   "cell_type": "code",
   "execution_count": 67,
   "metadata": {},
   "outputs": [],
   "source": [
    "df = pd.read_csv('https://api.statbank.dk/v1/data/FOLK1A/CSV?lang=en&valuePresentation=Value&timeOrder=Ascending&allowVariablesInHead=true')"
   ]
  },
  {
   "cell_type": "code",
   "execution_count": 68,
   "metadata": {},
   "outputs": [
    {
     "data": {
      "text/html": [
       "<div>\n",
       "<style scoped>\n",
       "    .dataframe tbody tr th:only-of-type {\n",
       "        vertical-align: middle;\n",
       "    }\n",
       "\n",
       "    .dataframe tbody tr th {\n",
       "        vertical-align: top;\n",
       "    }\n",
       "\n",
       "    .dataframe thead th {\n",
       "        text-align: right;\n",
       "    }\n",
       "</style>\n",
       "<table border=\"1\" class=\"dataframe\">\n",
       "  <thead>\n",
       "    <tr style=\"text-align: right;\">\n",
       "      <th></th>\n",
       "      <th>TID;INDHOLD</th>\n",
       "    </tr>\n",
       "  </thead>\n",
       "  <tbody>\n",
       "    <tr>\n",
       "      <th>0</th>\n",
       "      <td>2019Q4;5827463</td>\n",
       "    </tr>\n",
       "  </tbody>\n",
       "</table>\n",
       "</div>"
      ],
      "text/plain": [
       "      TID;INDHOLD\n",
       "0  2019Q4;5827463"
      ]
     },
     "execution_count": 68,
     "metadata": {},
     "output_type": "execute_result"
    }
   ],
   "source": [
    "df.head()"
   ]
  }
 ],
 "metadata": {
  "kernelspec": {
   "display_name": "Python 3",
   "language": "python",
   "name": "python3"
  },
  "language_info": {
   "codemirror_mode": {
    "name": "ipython",
    "version": 3
   },
   "file_extension": ".py",
   "mimetype": "text/x-python",
   "name": "python",
   "nbconvert_exporter": "python",
   "pygments_lexer": "ipython3",
   "version": "3.7.3"
  }
 },
 "nbformat": 4,
 "nbformat_minor": 4
}
